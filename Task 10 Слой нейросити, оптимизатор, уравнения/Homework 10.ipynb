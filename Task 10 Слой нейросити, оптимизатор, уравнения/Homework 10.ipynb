{
 "cells": [
  {
   "cell_type": "markdown",
   "id": "68d767a6",
   "metadata": {
    "toc": true
   },
   "source": [
    "<h1>Table of Contents<span class=\"tocSkip\"></span></h1>\n",
    "<div class=\"toc\"><ul class=\"toc-item\"><li><span><a href=\"#Задания\" data-toc-modified-id=\"Задания-1\"><span class=\"toc-item-num\">1&nbsp;&nbsp;</span>Задания</a></span><ul class=\"toc-item\"><li><span><a href=\"#Написать-на-PyTorch-forward-и-backward-полносвязного-слоя-без-использования-autograd\" data-toc-modified-id=\"Написать-на-PyTorch-forward-и-backward-полносвязного-слоя-без-использования-autograd-1.1\"><span class=\"toc-item-num\">1.1&nbsp;&nbsp;</span>Написать на PyTorch forward и backward полносвязного слоя без использования autograd</a></span></li><li><span><a href=\"#Написать-1-2-адаптивных-оптимизатора\" data-toc-modified-id=\"Написать-1-2-адаптивных-оптимизатора-1.2\"><span class=\"toc-item-num\">1.2&nbsp;&nbsp;</span>Написать 1-2 адаптивных оптимизатора</a></span></li><li><span><a href=\"#Решить-задачу-нахождения-корней-квадратного-уравнения-методом-градиентного-спуска\" data-toc-modified-id=\"Решить-задачу-нахождения-корней-квадратного-уравнения-методом-градиентного-спуска-1.3\"><span class=\"toc-item-num\">1.3&nbsp;&nbsp;</span>Решить задачу нахождения корней квадратного уравнения методом градиентного спуска</a></span></li></ul></li></ul></div>"
   ]
  },
  {
   "cell_type": "markdown",
   "id": "b8a6aaa9",
   "metadata": {},
   "source": [
    "# Задания\n",
    "\n",
    "## Написать на PyTorch forward и backward полносвязного слоя без использования autograd"
   ]
  },
  {
   "cell_type": "code",
   "execution_count": 1,
   "id": "16743475",
   "metadata": {},
   "outputs": [],
   "source": [
    "import pandas as pd\n",
    "import numpy as np\n",
    "\n",
    "import matplotlib.pyplot as plt\n",
    "\n",
    "import torch\n",
    "from torch import nn"
   ]
  },
  {
   "cell_type": "code",
   "execution_count": 2,
   "id": "c969385e",
   "metadata": {},
   "outputs": [],
   "source": [
    "def sigmoid(z):\n",
    "    return 1./(1+np.exp(-z))"
   ]
  },
  {
   "cell_type": "code",
   "execution_count": null,
   "id": "e353686c",
   "metadata": {},
   "outputs": [],
   "source": [
    "\n",
    "super().__init__()"
   ]
  },
  {
   "cell_type": "code",
   "execution_count": 22,
   "id": "bacea786",
   "metadata": {},
   "outputs": [],
   "source": [
    "class CustomLinear(nn.Module):\n",
    "    def _init_(self, in_features, out_features, lr=0.1):\n",
    "        super().__init__()\n",
    "        self.shape = (in_features, out_features)\n",
    "        self.lr = lr\n",
    "        self.weight = np.zeros(self.shape, dtype=np.float32)\n",
    "        self.bias = np.zeros((1, out_features), dtype=np.float32)\n",
    "        self._clear_grads()\n",
    "        \n",
    "    def _clear_grads(self):\n",
    "        self.inp = None\n",
    "        self.activations = None\n",
    "        self.d_sigma = None\n",
    "        self.d_weight = None\n",
    "        self.d_bias = None\n",
    "        \n",
    "    def forward(self, x):\n",
    "        print('asdfasd')\n",
    "        if len(x.shape) == 1:\n",
    "            x = x.reshape(1, -1)\n",
    "        self.inp = x\n",
    "        self.activations = sigmoid(x.dot(self.weight) + self.bias)\n",
    "        return self.activations\n",
    "        \n",
    "    \n",
    "    def backward(self, grad):\n",
    "        self.d_sigma = self.activations * (1 - self.activations)\n",
    "        self.d_weight = self.grad_w(grad)\n",
    "        self.d_bias = self.grad_b(grad)\n",
    "        return self.grad_x(grad)\n",
    "        \n",
    "    def grad_w(self, grad):\n",
    "        return grad * self.inp.T * self.d_sigma\n",
    "    \n",
    "    def grad_b(self, grad):\n",
    "        return grad * self.d_sigma\n",
    "    \n",
    "    def grad_x(self, grad):\n",
    "        return self.weight.dot(grad) * self.d_sigma\n",
    "    \n",
    "    def step(self):\n",
    "        self.weight -= self.d_weight * self.lr\n",
    "        self.bias -= self.d_bias * self.lr\n",
    "        self._clear_grads()\n",
    "        \n",
    "model = CustomLinear()"
   ]
  },
  {
   "cell_type": "markdown",
   "id": "8ff232d5",
   "metadata": {},
   "source": [
    "## Написать 1-2 адаптивных оптимизатора"
   ]
  },
  {
   "cell_type": "markdown",
   "id": "ac8fe3e9",
   "metadata": {},
   "source": [
    "Оптимизатор из лекции"
   ]
  },
  {
   "cell_type": "code",
   "execution_count": 47,
   "id": "0acbdb44",
   "metadata": {},
   "outputs": [],
   "source": [
    "class SGDMomentum:\n",
    "    \n",
    "    def __init__(self, momentum, lr, model):\n",
    "        self.model = model\n",
    "        self.lr = lr\n",
    "        self.momentum = momentum\n",
    "        self.velocity = torch.zeros_like(model)\n",
    "        \n",
    "    def step(self, grad):\n",
    "        self.velocity = self.momentum * self.velocity - self.lr * grad\n",
    "        self.model += self.velocity"
   ]
  },
  {
   "cell_type": "markdown",
   "id": "bc0cafb7",
   "metadata": {},
   "source": [
    "Оптимизатор Adam\n",
    "\n",
    "https://medium.com/analytics-vidhya/a-complete-guide-to-adam-and-rmsprop-optimizer-75f4502d83be\n",
    "\n",
    "https://miro.medium.com/max/1400/1*FnZxx-ssZXdTzIuuf1NEzw.png"
   ]
  },
  {
   "cell_type": "code",
   "execution_count": 16,
   "id": "51d8ba60",
   "metadata": {},
   "outputs": [],
   "source": [
    "class Adam:\n",
    "    \n",
    "    def __init__(self, model, a, \n",
    "                 m = 0,\n",
    "                 v = 0,\n",
    "                 t = 0,\n",
    "                 b1 = 0.9, \n",
    "                 b2 = 0.999, \n",
    "                 eps = 10 ** (-8) ):\n",
    "        self.model = model\n",
    "        self.a = a\n",
    "        self.m = m\n",
    "        self.v = v\n",
    "        self.t = t\n",
    "        self.b1 = b1\n",
    "        self.b2 = b2\n",
    "        self.eps = eps\n",
    "    \n",
    "    def step(self, grad):\n",
    "        self.t += 1\n",
    "        self.m = self.b1 * self.m + (1 - self.b1) * grad\n",
    "        self.v = self.b2 * self.v + (1 - self.b2) * grad\n",
    "        m_bias = self.m / (1-self.b1)\n",
    "        v_bias = self.v / (1-self.b2)\n",
    "        self.model -= (self.a * m_bias) / (v_bias**0.5 + self.eps)"
   ]
  },
  {
   "cell_type": "markdown",
   "id": "0373d4b0",
   "metadata": {},
   "source": [
    "## Решить задачу нахождения корней квадратного уравнения методом градиентного спуска"
   ]
  },
  {
   "cell_type": "markdown",
   "id": "a89f3e6d",
   "metadata": {},
   "source": [
    "Найти пересечения с осью x линии y = 2*x - 7 методом градиентного спуска (пример из лекции)"
   ]
  },
  {
   "cell_type": "code",
   "execution_count": 52,
   "id": "f84a2f9e",
   "metadata": {},
   "outputs": [
    {
     "name": "stdout",
     "output_type": "stream",
     "text": [
      "tensor(3.5000)\n"
     ]
    }
   ],
   "source": [
    "def func(x):\n",
    "    return (2 * x - 7) ** 2\n",
    "\n",
    "def grad_f(x):\n",
    "    return 2 * (2 * x - 7) * 2\n",
    "\n",
    "def solver(init_x):\n",
    "    x = torch.tensor(init_x, dtype=torch.float32)\n",
    "    g = grad_f(x)\n",
    "    optim = SGDMomentum(0.9, 0.001, x)\n",
    "    for i in range(1000):\n",
    "        optim.step(g)\n",
    "        g = grad_f(optim.model)\n",
    "    print(optim.model)\n",
    "\n",
    "solver(6)"
   ]
  },
  {
   "cell_type": "markdown",
   "id": "9a8ca7b0",
   "metadata": {},
   "source": [
    "Решение квадратных уравнений методом градиентного спуска\n",
    "f(x) = -x^2 + 2x - 1\n",
    "\n",
    "1 корень\n",
    "\n",
    "x1 = 1\n",
    "\n",
    "ветви направлены вниз"
   ]
  },
  {
   "cell_type": "code",
   "execution_count": 53,
   "id": "8a4c0765",
   "metadata": {},
   "outputs": [
    {
     "name": "stdout",
     "output_type": "stream",
     "text": [
      "tensor(1.0004)\n"
     ]
    }
   ],
   "source": [
    "a, b, c = -1, 2, -1\n",
    "\n",
    "f = lambda x: (a*x**2 + b*x + c)\n",
    "g = lambda x: -(2*a*x + b) # знак \"-\" т.к. экстремум изначальной функции f в точке максимума а не минимума\n",
    "\n",
    "def solver(init_x):\n",
    "    x = torch.tensor(init_x, dtype=torch.float32)\n",
    "    grad = g(x)\n",
    "    optim = Adam(x, 0.01)\n",
    "    for i in range(1000):\n",
    "        optim.step(grad)\n",
    "        grad = g(optim.model)\n",
    "    print(optim.model)\n",
    "    \n",
    "solver(6)"
   ]
  },
  {
   "cell_type": "markdown",
   "id": "8de98de8",
   "metadata": {},
   "source": [
    "f(x) = 2x^2 + 4x + 1\n",
    "\n",
    "2 корня\n",
    "\n",
    "x1 ≈ -1.7071 , x2 ≈ -0.29289\n",
    "\n",
    "ветви направлены вверх"
   ]
  },
  {
   "cell_type": "code",
   "execution_count": 86,
   "id": "6dfb134f",
   "metadata": {},
   "outputs": [
    {
     "data": {
      "image/png": "[encoded data removed]",
      "text/plain": [
       "<Figure size 720x720 with 1 Axes>"
      ]
     },
     "metadata": {
      "needs_background": "light"
     },
     "output_type": "display_data"
    },
    {
     "name": "stdout",
     "output_type": "stream",
     "text": [
      "tensor(-1.0000)\n",
      "tensor(-0.2929)\n"
     ]
    }
   ],
   "source": [
    "a, b, c = 2, 4, 1\n",
    "\n",
    "f = lambda x: (a*x**2 + b*x + c)\n",
    "g = lambda x: 2*a*x + b\n",
    "\n",
    "f1 = lambda x: (a*x**2 + b*x + c)**2\n",
    "g1 = lambda x: 2*(a*x**2 + b*x + c)\n",
    "\n",
    "x = np.arange(-5, 5, 0.01)\n",
    "plt.figure(figsize=[10,10])\n",
    "plt.plot(x, [f(i) for i in x], color='blue',alpha=.6, linewidth=2, label=f'{a}x**2 + {b}x + {c}')\n",
    "plt.plot(x, [g(i) for i in x], color='blue', alpha=.6, linewidth=2, linestyle=f'dashed', label='2*{a}x + {b}')\n",
    "plt.plot(x, [f1(i) for i in x], color='magenta', alpha=.6, linewidth=2, label=f'({a}x**2 + {b}x + c)**2')\n",
    "plt.plot(x, [g1(i) for i in x], color='magenta', alpha=.6, linewidth=2, linestyle='dashed', label=f'2*({a}x**2 + {b}x + {c})')\n",
    "plt.plot(x, [0 for _ in x], color='gray', alpha=.4, linewidth=6)\n",
    "plt.plot([0 for _ in x], x, color='gray', alpha=.4, linewidth=6)\n",
    "plt.xlim([-5,5])\n",
    "plt.ylim([-5,5])\n",
    "plt.grid(axis='both') \n",
    "plt.legend()\n",
    "plt.show()\n",
    "\n",
    "def solver(init_x, g):\n",
    "    x = torch.tensor(init_x, dtype=torch.float32)\n",
    "    grad = g(x)\n",
    "    optim = Adam(x, 0.01)\n",
    "    for i in range(2000):\n",
    "        optim.step(grad)\n",
    "        grad = g(optim.model)\n",
    "    print(optim.model)\n",
    "    \n",
    "solver(6, g) # находит x-экстремума основной функции\n",
    "solver(6, g1) # находит один из корней"
   ]
  },
  {
   "cell_type": "markdown",
   "id": "9c474df5",
   "metadata": {},
   "source": [
    "т.к. 2 корня равноудалены от центра параболы, то их значения равны x(экстремума) +- расстояние до любого из них"
   ]
  },
  {
   "cell_type": "code",
   "execution_count": 145,
   "id": "5e49b845",
   "metadata": {},
   "outputs": [
    {
     "name": "stdout",
     "output_type": "stream",
     "text": [
      "корни уравнения - x1≈-1.7071 x2≈-0.2929\n"
     ]
    }
   ],
   "source": [
    "extrem_x = -1.\n",
    "diff = abs(extrem_x - (-0.2929))\n",
    "first_root = extrem_x - diff\n",
    "second_root = round(extrem_x + diff, 4)\n",
    "print(f'корни уравнения - x1≈{first_root} x2≈{second_root}')"
   ]
  }
 ],
 "metadata": {
  "kernelspec": {
   "display_name": "Python 3",
   "language": "python",
   "name": "python3"
  },
  "language_info": {
   "codemirror_mode": {
    "name": "ipython",
    "version": 3
   },
   "file_extension": ".py",
   "mimetype": "text/x-python",
   "name": "python",
   "nbconvert_exporter": "python",
   "pygments_lexer": "ipython3",
   "version": "3.8.8"
  },
  "toc": {
   "base_numbering": 1,
   "nav_menu": {},
   "number_sections": true,
   "sideBar": true,
   "skip_h1_title": false,
   "title_cell": "Table of Contents",
   "title_sidebar": "Contents",
   "toc_cell": true,
   "toc_position": {},
   "toc_section_display": true,
   "toc_window_display": false
  }
 },
 "nbformat": 4,
 "nbformat_minor": 5
}
