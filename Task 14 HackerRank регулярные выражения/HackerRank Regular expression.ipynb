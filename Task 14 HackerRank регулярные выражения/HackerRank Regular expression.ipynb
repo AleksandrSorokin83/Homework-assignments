{
 "cells": [
  {
   "cell_type": "markdown",
   "id": "aa858319",
   "metadata": {
    "toc": true
   },
   "source": [
    "<h1>Table of Contents<span class=\"tocSkip\"></span></h1>\n",
    "<div class=\"toc\"><ul class=\"toc-item\"></ul></div>"
   ]
  },
  {
   "cell_type": "code",
   "execution_count": 1,
   "id": "faed81f1",
   "metadata": {},
   "outputs": [],
   "source": [
    "import re"
   ]
  },
  {
   "cell_type": "markdown",
   "id": "ecbf7eaa",
   "metadata": {},
   "source": [
    "Задание 6: https://www.hackerrank.com/challenges/matching-specific-string/problem?isFullScreen=true"
   ]
  },
  {
   "cell_type": "code",
   "execution_count": 10,
   "id": "fad7b8c8",
   "metadata": {},
   "outputs": [
    {
     "name": "stdout",
     "output_type": "stream",
     "text": [
      "The hackerrank team is on a mission to flatten the world by restructuring the DNA of every company on the planet. We rank programmers based on their coding skills, helping companies source great programmers and reduce the time to hire. As a result, we are revolutionizing the way companies discover and evaluate talented engineers. The hackerrank platform is the destination for the best engineers to hone their skills and companies to find top engineers.\n",
      "Number of matches : 2\n",
      "['hackerrank', 'hackerrank']\n"
     ]
    }
   ],
   "source": [
    "Regex_Pattern = r'hackerrank'\t# Do not delete 'r'.\n",
    "\n",
    "Test_String = input()\n",
    "\n",
    "match = re.findall(Regex_Pattern, Test_String)\n",
    "\n",
    "print(\"Number of matches :\", len(match))\n",
    "print(match)"
   ]
  },
  {
   "cell_type": "markdown",
   "id": "edbdc761",
   "metadata": {},
   "source": [
    "Задание 7: https://www.hackerrank.com/challenges/matching-whitespace-non-whitespace-character/problem?isFullScreen=true"
   ]
  },
  {
   "cell_type": "code",
   "execution_count": 14,
   "id": "85ba7be6",
   "metadata": {},
   "outputs": [
    {
     "name": "stdout",
     "output_type": "stream",
     "text": [
      "12 11 15\n",
      "true\n"
     ]
    }
   ],
   "source": [
    "Regex_Pattern = r\"\\S\\S\\s\\S\\S\\s\\S\\S\"\t# Do not delete 'r'.\n",
    "\n",
    "print(str(bool(re.search(Regex_Pattern, input()))).lower())"
   ]
  },
  {
   "cell_type": "markdown",
   "id": "73688695",
   "metadata": {},
   "source": [
    "Задание 8: https://www.hackerrank.com/challenges/matching-start-end/problem?isFullScreen=true"
   ]
  },
  {
   "cell_type": "code",
   "execution_count": 25,
   "id": "4b138a01",
   "metadata": {},
   "outputs": [
    {
     "name": "stdout",
     "output_type": "stream",
     "text": [
      "0qwer.\n",
      "true\n"
     ]
    }
   ],
   "source": [
    "Regex_Pattern = r\"^\\d\\w{4}\\.$\"\t# Do not delete 'r'.\n",
    "\n",
    "print(str(bool(re.search(Regex_Pattern, input()))).lower())"
   ]
  },
  {
   "cell_type": "markdown",
   "id": "070d5235",
   "metadata": {},
   "source": [
    "Задание 9: https://www.hackerrank.com/challenges/matching-word-boundaries/problem?isFullScreen=true"
   ]
  },
  {
   "cell_type": "code",
   "execution_count": 2,
   "id": "4749dc2b",
   "metadata": {},
   "outputs": [
    {
     "name": "stdout",
     "output_type": "stream",
     "text": [
      "Found any match?\n",
      "true\n"
     ]
    }
   ],
   "source": [
    "Regex_Pattern = r'\\b[aeiouAEIOU][a-zA-Z]*\\b'\t# Do not delete 'r'.\n",
    "print(str(bool(re.search(Regex_Pattern, input()))).lower())"
   ]
  },
  {
   "cell_type": "code",
   "execution_count": null,
   "id": "fe65f3ac",
   "metadata": {},
   "outputs": [],
   "source": []
  }
 ],
 "metadata": {
  "kernelspec": {
   "display_name": "Python 3",
   "language": "python",
   "name": "python3"
  },
  "language_info": {
   "codemirror_mode": {
    "name": "ipython",
    "version": 3
   },
   "file_extension": ".py",
   "mimetype": "text/x-python",
   "name": "python",
   "nbconvert_exporter": "python",
   "pygments_lexer": "ipython3",
   "version": "3.8.8"
  },
  "toc": {
   "base_numbering": 1,
   "nav_menu": {},
   "number_sections": true,
   "sideBar": true,
   "skip_h1_title": false,
   "title_cell": "Table of Contents",
   "title_sidebar": "Contents",
   "toc_cell": true,
   "toc_position": {},
   "toc_section_display": true,
   "toc_window_display": false
  }
 },
 "nbformat": 4,
 "nbformat_minor": 5
}
