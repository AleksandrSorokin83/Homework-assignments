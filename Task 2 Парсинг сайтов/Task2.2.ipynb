{
 "cells": [
  {
   "cell_type": "markdown",
   "id": "a37bcbf5",
   "metadata": {
    "toc": true
   },
   "source": [
    "<h1>Table of Contents<span class=\"tocSkip\"></span></h1>\n",
    "<div class=\"toc\"><ul class=\"toc-item\"></ul></div>"
   ]
  },
  {
   "cell_type": "code",
   "execution_count": 6,
   "id": "9b5d6cd8",
   "metadata": {
    "scrolled": true
   },
   "outputs": [
    {
     "name": "stdout",
     "output_type": "stream",
     "text": [
      "Collecting fake-useragent\n",
      "  Using cached fake-useragent-0.1.11.tar.gz (13 kB)\n",
      "Building wheels for collected packages: fake-useragent\n",
      "  Building wheel for fake-useragent (setup.py): started\n",
      "  Building wheel for fake-useragent (setup.py): finished with status 'done'\n",
      "  Created wheel for fake-useragent: filename=fake_useragent-0.1.11-py3-none-any.whl size=13486 sha256=99259e15f9b0519693313e591defe0599f8a0c0cd266a84af4a16f15c2c008c7\n",
      "  Stored in directory: c:\\users\\dns\\appdata\\local\\pip\\cache\\wheels\\a0\\b8\\b7\\8c942b2c5be5158b874a88195116b05ad124bac795f6665e65\n",
      "Successfully built fake-useragent\n",
      "Installing collected packages: fake-useragent\n",
      "Successfully installed fake-useragent-0.1.11\n"
     ]
    }
   ],
   "source": [
    "!pip install fake-useragent"
   ]
  },
  {
   "cell_type": "code",
   "execution_count": 1,
   "id": "737f310f",
   "metadata": {},
   "outputs": [],
   "source": [
    "import requests\n",
    "from fake_useragent import UserAgent\n",
    "from bs4 import BeautifulSoup"
   ]
  },
  {
   "cell_type": "code",
   "execution_count": 2,
   "id": "b4e9f2c6",
   "metadata": {},
   "outputs": [
    {
     "name": "stdout",
     "output_type": "stream",
     "text": [
      "Mozilla/5.0 (Windows NT 6.3; Win64; x64) AppleWebKit/537.36 (KHTML, like Gecko) Chrome/37.0.2049.0 Safari/537.36\n"
     ]
    }
   ],
   "source": [
    "ua = UserAgent()\n",
    "print(ua.random)"
   ]
  },
  {
   "cell_type": "code",
   "execution_count": 3,
   "id": "4e1cd090",
   "metadata": {},
   "outputs": [],
   "source": [
    "# Скачиваю только 10 фоток для простоты (можно и все, но это большой объем)\n",
    "offset_ = 0\n",
    "limit_ = 10\n",
    "url = f'https://xn--80az8a.xn--d1aqf.xn--p1ai/%D1%81%D0%B5%D1%80%D0%B2%D0%B8%D1%81%D1%8B/api/kn/object?offset={offset_}&limit={limit_}&sortField=devId.devShortCleanNm&sortType=asc&objStatus=0'\n",
    "res = requests.get(url)\n",
    "objects_data = res.json()"
   ]
  },
  {
   "cell_type": "code",
   "execution_count": 4,
   "id": "a87621f2",
   "metadata": {},
   "outputs": [],
   "source": [
    "objects_list = objects_data.get('data').get('list')\n",
    "objids = [x.get('objId') for x in objects_list]"
   ]
  },
  {
   "cell_type": "code",
   "execution_count": 5,
   "id": "b08c006c",
   "metadata": {},
   "outputs": [
    {
     "data": {
      "text/plain": [
       "10"
      ]
     },
     "execution_count": 5,
     "metadata": {},
     "output_type": "execute_result"
    }
   ],
   "source": [
    "len(objids)"
   ]
  },
  {
   "cell_type": "code",
   "execution_count": 6,
   "id": "e79758a2",
   "metadata": {},
   "outputs": [
    {
     "data": {
      "text/plain": [
       "[13383, 13391, 13397, 13398, 13399, 23682, 36321, 37071, 36912, 23494]"
      ]
     },
     "execution_count": 6,
     "metadata": {},
     "output_type": "execute_result"
    }
   ],
   "source": [
    "objids"
   ]
  },
  {
   "cell_type": "code",
   "execution_count": 22,
   "id": "c67991fc",
   "metadata": {},
   "outputs": [
    {
     "name": "stdout",
     "output_type": "stream",
     "text": [
      "https://xn--80az8a.xn--d1aqf.xn--p1ai/api/ext/file/7c1ce108-aa51-45c2-acfa-3091f6bf7e54\n",
      "https://xn--80az8a.xn--d1aqf.xn--p1ai/api/ext/file/1eca0ffa-fb5f-4b30-a239-632c4c79ecd2\n",
      "https://xn--80az8a.xn--d1aqf.xn--p1ai/api/ext/file/3468baf9-f5b6-446b-a6b9-1b3147d72e28\n",
      "https://xn--80az8a.xn--d1aqf.xn--p1ai/api/ext/file/02b88db9-bdd0-4b77-b652-32578b277f6b\n",
      "https://xn--80az8a.xn--d1aqf.xn--p1ai/api/ext/file/0b989b49-d32a-40ea-8cd3-28d6d0b6cda9\n",
      "https://xn--80az8a.xn--d1aqf.xn--p1ai/api/ext/file/adca65ce-ab57-4c36-9714-9a9cd846259a\n",
      "https://xn--80az8a.xn--d1aqf.xn--p1ai/api/ext/file/84998a75-a525-4b71-a547-05683c695078\n",
      "https://xn--80az8a.xn--d1aqf.xn--p1ai/api/ext/file/3fde852e-7339-4a2b-bcde-ae61e39a72e7\n",
      "https://xn--80az8a.xn--d1aqf.xn--p1ai/api/ext/file/163a4483-4231-45b1-88ff-14013ee3a070\n",
      "https://xn--80az8a.xn--d1aqf.xn--p1ai/api/ext/file/c92ff7a1-8da2-4654-b6c5-96cbf08e9b76\n"
     ]
    }
   ],
   "source": [
    "\n",
    "def load_data(url):\n",
    "    response = requests.get(\n",
    "        url,\n",
    "        headers={'user-agent':f'{ua.random}'}\n",
    "    )\n",
    "    \n",
    "    soup = BeautifulSoup(response.content, \"html.parser\")\n",
    "    \n",
    "    for link in soup.find('div', class_=\"swiper-slide\"):\n",
    "        url = link.get('src')\n",
    "        print(url)\n",
    "        \n",
    "        img = requests.get(url, stream = True)\n",
    "    \n",
    "        \n",
    "        file = open(f'Image/{objids[i]}.jpg', 'bw')\n",
    "        for chunk in img.iter_content(4096):\n",
    "            file.write(chunk)\n",
    "\n",
    "            \n",
    "for i in range(10):\n",
    "    url = f'https://xn--80az8a.xn--d1aqf.xn--p1ai/%D1%81%D0%B5%D1%80%D0%B2%D0%B8%D1%81%D1%8B/%D0%BA%D0%B0%D1%82%D0%B0%D0%BB%D0%BE%D0%B3-%D0%BD%D0%BE%D0%B2%D0%BE%D1%81%D1%82%D1%80%D0%BE%D0%B5%D0%BA/%D0%BE%D0%B1%D1%8A%D0%B5%D0%BA%D1%82/{objids[i]}'\n",
    "    load_data(url)\n",
    "    i+=1\n",
    "    \n"
   ]
  },
  {
   "cell_type": "code",
   "execution_count": null,
   "id": "738964c9",
   "metadata": {},
   "outputs": [],
   "source": []
  }
 ],
 "metadata": {
  "kernelspec": {
   "display_name": "Python 3",
   "language": "python",
   "name": "python3"
  },
  "language_info": {
   "codemirror_mode": {
    "name": "ipython",
    "version": 3
   },
   "file_extension": ".py",
   "mimetype": "text/x-python",
   "name": "python",
   "nbconvert_exporter": "python",
   "pygments_lexer": "ipython3",
   "version": "3.8.8"
  },
  "toc": {
   "base_numbering": 1,
   "nav_menu": {},
   "number_sections": true,
   "sideBar": true,
   "skip_h1_title": false,
   "title_cell": "Table of Contents",
   "title_sidebar": "Contents",
   "toc_cell": true,
   "toc_position": {},
   "toc_section_display": true,
   "toc_window_display": false
  }
 },
 "nbformat": 4,
 "nbformat_minor": 5
}
