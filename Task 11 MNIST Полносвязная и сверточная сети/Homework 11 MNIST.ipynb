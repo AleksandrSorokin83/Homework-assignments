{
 "cells": [
  {
   "cell_type": "markdown",
   "id": "eac58d87",
   "metadata": {
    "toc": true
   },
   "source": [
    "<h1>Table of Contents<span class=\"tocSkip\"></span></h1>\n",
    "<div class=\"toc\"><ul class=\"toc-item\"><li><span><a href=\"#Задания\" data-toc-modified-id=\"Задания-1\"><span class=\"toc-item-num\">1&nbsp;&nbsp;</span>Задания</a></span><ul class=\"toc-item\"><li><span><a href=\"#Обучить-полносвязную-модель-на-MNIST\" data-toc-modified-id=\"Обучить-полносвязную-модель-на-MNIST-1.1\"><span class=\"toc-item-num\">1.1&nbsp;&nbsp;</span>Обучить полносвязную модель на MNIST</a></span></li><li><span><a href=\"#Обучить-глубокую-сверточную-сеть-на-MNIST\" data-toc-modified-id=\"Обучить-глубокую-сверточную-сеть-на-MNIST-1.2\"><span class=\"toc-item-num\">1.2&nbsp;&nbsp;</span>Обучить глубокую сверточную сеть на MNIST</a></span></li></ul></li></ul></div>"
   ]
  },
  {
   "cell_type": "markdown",
   "id": "bb6e71eb",
   "metadata": {},
   "source": [
    "# Задания"
   ]
  },
  {
   "cell_type": "markdown",
   "id": "0c3cb84a",
   "metadata": {},
   "source": [
    "## Обучить полносвязную модель на MNIST"
   ]
  },
  {
   "cell_type": "code",
   "execution_count": 1,
   "id": "8bef8c51",
   "metadata": {},
   "outputs": [],
   "source": [
    "import torch\n",
    "import torch.nn as nn\n",
    "import torchvision.models as models\n",
    "from torchvision import datasets\n",
    "from torch.utils.data import DataLoader\n",
    "import numpy\n",
    "import matplotlib.pyplot as plt"
   ]
  },
  {
   "cell_type": "code",
   "execution_count": 2,
   "id": "b3af1661",
   "metadata": {},
   "outputs": [],
   "source": [
    "#hyper params\n",
    "num_epoch = 10\n",
    "cuda_device = -1\n",
    "batch_size = 140\n",
    "device = f'cuda:{cuda_device}' if cuda_device != -1 else 'cpu'\n",
    "input_d = 28*28\n",
    "hidden_d = 512\n",
    "out_d = 10"
   ]
  },
  {
   "cell_type": "code",
   "execution_count": 3,
   "id": "3cf2239b",
   "metadata": {},
   "outputs": [
    {
     "name": "stderr",
     "output_type": "stream",
     "text": [
      "C:\\Users\\DNS\\anaconda3\\lib\\site-packages\\torch\\autograd\\__init__.py:154: UserWarning: CUDA initialization: The NVIDIA driver on your system is too old (found version 9010). Please update your GPU driver by downloading and installing a new version from the URL: http://www.nvidia.com/Download/index.aspx Alternatively, go to: https://pytorch.org to install a PyTorch version that has been compiled with your version of the CUDA driver. (Triggered internally at  ..\\c10\\cuda\\CUDAFunctions.cpp:112.)\n",
      "  Variable._execution_engine.run_backward(\n"
     ]
    },
    {
     "name": "stdout",
     "output_type": "stream",
     "text": [
      "[1,   200] loss: 0.696\n",
      "[1,   400] loss: 0.530\n",
      "[2,   200] loss: 0.515\n",
      "[2,   400] loss: 0.628\n",
      "[3,   200] loss: 0.583\n",
      "[3,   400] loss: 0.522\n",
      "[4,   200] loss: 0.583\n",
      "[4,   400] loss: 0.493\n",
      "[5,   200] loss: 0.473\n",
      "[5,   400] loss: 0.486\n",
      "[6,   200] loss: 0.508\n",
      "[6,   400] loss: 0.331\n",
      "[7,   200] loss: 0.306\n",
      "[7,   400] loss: 0.302\n",
      "[8,   200] loss: 0.298\n",
      "[8,   400] loss: 0.215\n",
      "[9,   200] loss: 0.265\n",
      "[9,   400] loss: 0.218\n",
      "[10,   200] loss: 0.203\n",
      "[10,   400] loss: 0.369\n",
      "[10,   428] loss: 0.288\n",
      "Обучение закончено\n"
     ]
    }
   ],
   "source": [
    "#model\n",
    "class MyModel(nn.Module):\n",
    "    def __init__(self,\n",
    "                 input_dim: int,\n",
    "                 hidden_dim: int,\n",
    "                 out_dim: int,\n",
    "                 ):\n",
    "        super().__init__()\n",
    "        self.linear1 = nn.Linear(input_dim, hidden_dim, bias=True)\n",
    "        self.linear2 = nn.Linear(hidden_dim, hidden_dim, bias=True)\n",
    "        self.linear3 = nn.Linear(hidden_dim, out_dim)\n",
    "\n",
    "        self.activation = nn.ReLU()\n",
    "\n",
    "    def forward(self, x):\n",
    "        x = self.activation(self.linear1(x))\n",
    "        x = self.activation(self.linear2(x))\n",
    "        x = self.activation(self.linear3(x))\n",
    "\n",
    "        return x\n",
    "    \n",
    "    \n",
    "def collate_fn(data):\n",
    "    pics = []\n",
    "    targets = []\n",
    "    # data = [(pic, target), ....]\n",
    "    for item in data:\n",
    "        pics.append(numpy.array(item[0]))\n",
    "        targets.append(item[1])\n",
    "\n",
    "    return {\n",
    "        'data': torch.from_numpy(numpy.array(pics)) / 255,\n",
    "        'target': torch.from_numpy(numpy.array(targets))\n",
    "    }\n",
    "\n",
    "\n",
    "# init model\n",
    "model = MyModel(input_d, hidden_d, out_d)\n",
    "model = model.to(device)\n",
    "\n",
    "#optimizer\n",
    "optim = torch.optim.Adam(model.parameters(), lr=0.001)\n",
    "\n",
    "#lr scheduler\n",
    "\n",
    "#dataset\n",
    "dataset = datasets.MNIST('.', download=False)\n",
    "\n",
    "\n",
    "# plt.imshow(dataset.data[300].detach().numpy())\n",
    "# plt.show()\n",
    "\n",
    "#loss\n",
    "criterion = nn.CrossEntropyLoss()\n",
    "\n",
    "# train loop\n",
    "for epoch in range(num_epoch):\n",
    "    #dataloder\n",
    "    data_loader = DataLoader(dataset=dataset,\n",
    "                             batch_size=batch_size,\n",
    "                             shuffle=True,\n",
    "                             collate_fn=collate_fn,\n",
    "                             drop_last=True,\n",
    "                             )\n",
    "    \n",
    "    for i, batch in enumerate(data_loader):\n",
    "        optim.zero_grad()\n",
    "        data = batch['data'].to(device).float()\n",
    "        predict = model(data.view(data.size(0), -1))\n",
    "        loss = criterion(predict, batch['target'].to(device).long())\n",
    "        loss.backward()\n",
    "        optim.step()\n",
    "            \n",
    "        if i % 200 == 199:\n",
    "            print('[%d, %5d] loss: %.3f' %\n",
    "                  (epoch + 1, i + 1, loss))\n",
    "print('[%d, %5d] loss: %.3f' %\n",
    "                  (epoch + 1, i + 1, loss))\n",
    "            \n",
    "print('Обучение закончено')"
   ]
  },
  {
   "cell_type": "markdown",
   "id": "0b676f15",
   "metadata": {},
   "source": [
    "## Обучить глубокую сверточную сеть на MNIST"
   ]
  },
  {
   "cell_type": "code",
   "execution_count": 2,
   "id": "fcb2a2be",
   "metadata": {},
   "outputs": [],
   "source": [
    "#hyper params\n",
    "num_epoch = 5\n",
    "cuda_device = -1\n",
    "batch_size = 140\n",
    "device = f'cuda:{cuda_device}' if cuda_device != -1 else 'cpu'\n",
    "input_ch = 1\n",
    "hidden_ch = 128\n",
    "out_d = 10"
   ]
  },
  {
   "cell_type": "code",
   "execution_count": 3,
   "id": "ea28f676",
   "metadata": {},
   "outputs": [
    {
     "name": "stderr",
     "output_type": "stream",
     "text": [
      "C:\\Users\\DNS\\anaconda3\\lib\\site-packages\\torch\\autograd\\__init__.py:154: UserWarning: CUDA initialization: The NVIDIA driver on your system is too old (found version 9010). Please update your GPU driver by downloading and installing a new version from the URL: http://www.nvidia.com/Download/index.aspx Alternatively, go to: https://pytorch.org to install a PyTorch version that has been compiled with your version of the CUDA driver. (Triggered internally at  ..\\c10\\cuda\\CUDAFunctions.cpp:112.)\n",
      "  Variable._execution_engine.run_backward(\n"
     ]
    },
    {
     "name": "stdout",
     "output_type": "stream",
     "text": [
      "[1,   200] loss: 0.105\n",
      "[1,   400] loss: 0.172\n",
      "[2,   200] loss: 0.032\n",
      "[2,   400] loss: 0.018\n",
      "[3,   200] loss: 0.068\n",
      "[3,   400] loss: 0.036\n",
      "[4,   200] loss: 0.015\n",
      "[4,   400] loss: 0.091\n",
      "[5,   200] loss: 0.012\n",
      "[5,   400] loss: 0.011\n",
      "[5,   428] loss: 0.007\n",
      "Обучение закончено\n"
     ]
    }
   ],
   "source": [
    "#model\n",
    "class MyModelCNN(nn.Module):\n",
    "    def __init__(self,\n",
    "                 in_channels: int,\n",
    "                 hidden_channels: int,\n",
    "                 n_classes: int,\n",
    "                 ):\n",
    "        super().__init__()\n",
    "        self.conv1 = nn.Conv2d(in_channels, hidden_channels, kernel_size=5, padding=2, stride=2) # 14 * 14\n",
    "        self.bn1 = nn.BatchNorm2d(hidden_channels)\n",
    "        self.pool = nn.MaxPool2d(2, 2) # 7 * 7\n",
    "        self.conv2 = nn.Conv2d(hidden_channels, hidden_channels, kernel_size=3, padding=1, stride=1) # 7 * 7\n",
    "        self.bn2 = nn.BatchNorm2d(hidden_channels)\n",
    "        self.conv3 = nn.Conv2d(hidden_channels, 1, kernel_size=1, padding=0, stride=1) # 7 * 7\n",
    "        self.linear1 = nn.Linear(7*7, n_classes, bias=True)\n",
    "\n",
    "        self.activation = nn.ReLU()\n",
    "\n",
    "    def forward(self, x):# 14 * 14\n",
    "        x = self.activation(self.conv1(x))\n",
    "        x = self.activation(self.bn1(x))\n",
    "        x = self.activation(self.pool(x))\n",
    "        x = self.activation(self.conv2(x))\n",
    "        # print(x.shape)\n",
    "        x = self.activation(self.bn2(x))\n",
    "        x = self.activation(self.conv3(x))\n",
    "        x = self.activation(self.linear1(x.view(x.size(0), -1)))\n",
    "\n",
    "        return x\n",
    "\n",
    "\n",
    "def collate_fn(data):\n",
    "    pics = []\n",
    "    targets = []\n",
    "    # data = [(pic, target), ....]\n",
    "    for item in data:\n",
    "        pics.append(numpy.array(item[0]))\n",
    "        targets.append(item[1])\n",
    "\n",
    "    return {\n",
    "        'data': torch.from_numpy(numpy.array(pics)) / 255,\n",
    "        'target': torch.from_numpy(numpy.array(targets))\n",
    "    }\n",
    "\n",
    "\n",
    "# init model\n",
    "model = MyModelCNN(input_ch, hidden_ch, out_d)\n",
    "model = model.to(device)\n",
    "model.train()\n",
    "#optimizer\n",
    "optim = torch.optim.Adam(model.parameters(), lr=0.001)\n",
    "\n",
    "#lr scheduler\n",
    "\n",
    "#dataset\n",
    "dataset = datasets.MNIST('.', download=False)\n",
    "\n",
    "#\n",
    "# import matplotlib.pyplot as plt\n",
    "# plt.imshow(dataset.data[0].detach().numpy())\n",
    "# plt.show()\n",
    "#loss\n",
    "criterion = nn.CrossEntropyLoss()\n",
    "\n",
    "# train loop\n",
    "for epoch in range(num_epoch):\n",
    "    #dataloder\n",
    "    data_loader = DataLoader(dataset=dataset,\n",
    "                             batch_size=batch_size,\n",
    "                             shuffle=True,\n",
    "                             collate_fn=collate_fn,\n",
    "                             drop_last=True,\n",
    "                             )\n",
    "    for i, batch in enumerate(data_loader):\n",
    "        optim.zero_grad()\n",
    "        data = batch['data'].to(device).float()\n",
    "        predict = model(data.unsqueeze(1))\n",
    "        loss = criterion(predict, batch['target'].to(device).long())\n",
    "        loss.backward()\n",
    "        optim.step()\n",
    "        \n",
    "        if i % 200 == 199:\n",
    "            print('[%d, %5d] loss: %.3f' %\n",
    "                  (epoch + 1, i + 1, loss))\n",
    "print('[%d, %5d] loss: %.3f' %\n",
    "                  (epoch + 1, i + 1, loss))\n",
    "            \n",
    "print('Обучение закончено')"
   ]
  },
  {
   "cell_type": "markdown",
   "id": "b42f8632",
   "metadata": {},
   "source": [
    "Последний loss = 0.288 полносвязной модели. Последний loss = 0.007 глубокой сверточной сети при том, что в посленей num_epoch = 5 (полносвязная num_epoch = 10) и hidden_ch = 128 не увеличивал до 256."
   ]
  },
  {
   "cell_type": "code",
   "execution_count": 5,
   "id": "107c4298",
   "metadata": {},
   "outputs": [],
   "source": [
    "import numpy as np"
   ]
  },
  {
   "cell_type": "code",
   "execution_count": 7,
   "id": "9f8b7558",
   "metadata": {},
   "outputs": [],
   "source": [
    "testloader = torch.utils.data.DataLoader(dataset)"
   ]
  },
  {
   "cell_type": "code",
   "execution_count": 12,
   "id": "13cae68d",
   "metadata": {},
   "outputs": [
    {
     "data": {
      "image/png": "[encoded data removed]",
      "text/plain": [
       "<Figure size 432x288 with 1 Axes>"
      ]
     },
     "metadata": {
      "needs_background": "light"
     },
     "output_type": "display_data"
    }
   ],
   "source": [
    "i = np.random.randint(low=0, high=10000)\n",
    "\n",
    "def visualize_result(index):\n",
    "    image = testloader.dataset.test_data[index].numpy()\n",
    "    plt.imshow(image, cmap='gray')\n",
    "    \n",
    "    y_pred = model(torch.Tensor(image).view(1, 1, 28, 28))\n",
    "    _, predicted = torch.max(y_pred, 1)\n",
    "    \n",
    "    plt.title(f'Predicted: {predicted}')\n",
    "\n",
    "visualize_result(i)"
   ]
  },
  {
   "cell_type": "code",
   "execution_count": null,
   "id": "64c2529b",
   "metadata": {},
   "outputs": [],
   "source": []
  }
 ],
 "metadata": {
  "kernelspec": {
   "display_name": "Python 3 (ipykernel)",
   "language": "python",
   "name": "python3"
  },
  "language_info": {
   "codemirror_mode": {
    "name": "ipython",
    "version": 3
   },
   "file_extension": ".py",
   "mimetype": "text/x-python",
   "name": "python",
   "nbconvert_exporter": "python",
   "pygments_lexer": "ipython3",
   "version": "3.9.7"
  },
  "toc": {
   "base_numbering": 1,
   "nav_menu": {},
   "number_sections": true,
   "sideBar": true,
   "skip_h1_title": false,
   "title_cell": "Table of Contents",
   "title_sidebar": "Contents",
   "toc_cell": true,
   "toc_position": {},
   "toc_section_display": true,
   "toc_window_display": false
  }
 },
 "nbformat": 4,
 "nbformat_minor": 5
}
