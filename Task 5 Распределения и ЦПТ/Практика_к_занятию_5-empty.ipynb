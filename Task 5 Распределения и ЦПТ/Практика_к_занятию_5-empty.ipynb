{
 "cells": [
  {
   "cell_type": "markdown",
   "metadata": {
    "toc": true
   },
   "source": [
    "<h1>Table of Contents<span class=\"tocSkip\"></span></h1>\n",
    "<div class=\"toc\"><ul class=\"toc-item\"><li><span><a href=\"#Практика\" data-toc-modified-id=\"Практика-1\"><span class=\"toc-item-num\">1&nbsp;&nbsp;</span>Практика</a></span><ul class=\"toc-item\"><li><span><a href=\"#ЦПТ-для-различных-распределений\" data-toc-modified-id=\"ЦПТ-для-различных-распределений-1.1\"><span class=\"toc-item-num\">1.1&nbsp;&nbsp;</span>ЦПТ для различных распределений</a></span><ul class=\"toc-item\"><li><span><a href=\"#Сгенерируйте-примеры-из-распределения\" data-toc-modified-id=\"Сгенерируйте-примеры-из-распределения-1.1.1\"><span class=\"toc-item-num\">1.1.1&nbsp;&nbsp;</span>Сгенерируйте примеры из распределения</a></span></li><li><span><a href=\"#Постройте-гистограмму-выборки-и-теоретическую-плотность-распределения\" data-toc-modified-id=\"Постройте-гистограмму-выборки-и-теоретическую-плотность-распределения-1.1.2\"><span class=\"toc-item-num\">1.1.2&nbsp;&nbsp;</span>Постройте гистограмму выборки и теоретическую плотность распределения</a></span></li><li><span><a href=\"#Оценим-распределение-выборочного-среднего-для-разных-объёмов-выборок\" data-toc-modified-id=\"Оценим-распределение-выборочного-среднего-для-разных-объёмов-выборок-1.1.3\"><span class=\"toc-item-num\">1.1.3&nbsp;&nbsp;</span>Оценим распределение выборочного среднего для разных объёмов выборок</a></span></li></ul></li><li><span><a href=\"#Доверительный-интервал-на-основе-ЦПТ\" data-toc-modified-id=\"Доверительный-интервал-на-основе-ЦПТ-1.2\"><span class=\"toc-item-num\">1.2&nbsp;&nbsp;</span>Доверительный интервал на основе ЦПТ</a></span></li></ul></li></ul></div>"
   ]
  },
  {
   "cell_type": "markdown",
   "metadata": {
    "id": "pDrecLU-4QjS"
   },
   "source": [
    "# Практика"
   ]
  },
  {
   "cell_type": "code",
   "execution_count": 1,
   "metadata": {
    "id": "a6XFMuQUG6jO"
   },
   "outputs": [],
   "source": [
    "import pandas as pd\n",
    "import numpy as np\n",
    "import matplotlib.pyplot as plt\n",
    "import scipy.stats as sts\n",
    "import math\n",
    "%matplotlib inline"
   ]
  },
  {
   "cell_type": "markdown",
   "metadata": {
    "id": "5owLnS0MHJnz"
   },
   "source": [
    "## ЦПТ для различных распределений\n",
    "Возьмите то непрерывное распределение, которое вам больше всего понравится из списка доступных в модуле [scipy.stats](https://docs.scipy.org/doc/scipy/reference/stats.html)."
   ]
  },
  {
   "cell_type": "markdown",
   "metadata": {
    "id": "v1IvIGF9IRgH"
   },
   "source": [
    "### Сгенерируйте примеры из распределения"
   ]
  },
  {
   "cell_type": "code",
   "execution_count": 32,
   "metadata": {
    "colab": {
     "base_uri": "https://localhost:8080/",
     "height": 377
    },
    "id": "l4oTC1NSHvl7",
    "outputId": "52df1553-6d91-4452-9ade-e2a62a8d7ff2",
    "scrolled": false
   },
   "outputs": [
    {
     "data": {
      "text/plain": [
       "array([4.64256116e-01, 9.95847988e-01, 2.40510311e-02, 9.97154065e-01,\n",
       "       9.54003660e-01, 4.94698258e-01, 8.26820944e-01, 9.17588086e-02,\n",
       "       9.49380021e-01, 9.05879440e-01, 1.25254772e-02, 2.01766166e-01,\n",
       "       3.22133000e-01, 2.31024778e-01, 6.67034128e-01, 9.63563445e-01,\n",
       "       2.49720834e-04, 2.87365213e-01, 9.90280172e-01, 4.19273443e-01,\n",
       "       8.96188023e-01, 7.60108714e-01, 1.94712079e-01, 1.29265812e-03,\n",
       "       3.33332337e-01, 2.45398928e-01, 9.35211756e-01, 1.29420748e-01,\n",
       "       2.38407500e-01, 8.17418157e-01, 6.50536591e-01, 9.70005307e-01,\n",
       "       8.89254882e-01, 6.77325255e-02, 9.64120506e-01, 3.33643651e-01,\n",
       "       1.94856231e-02, 8.79417055e-02, 8.42760063e-01, 8.97811821e-01,\n",
       "       6.67500454e-01, 2.71673715e-02, 4.87458318e-01, 7.78423746e-01,\n",
       "       6.57156500e-01, 7.27441423e-01, 1.48530132e-01, 2.31253615e-01,\n",
       "       1.48543968e-01, 3.72054669e-01, 9.04831424e-01, 9.11205231e-01,\n",
       "       9.74113857e-01, 6.37502133e-01, 4.57384585e-01, 1.18236829e-01,\n",
       "       2.47381604e-01, 2.73313931e-01, 2.10231969e-01, 8.45289079e-05,\n",
       "       9.99889429e-01, 9.99996597e-01, 9.73405219e-01, 2.16484245e-01,\n",
       "       1.93291282e-02, 6.87527784e-01, 2.93530022e-01, 8.05037027e-01,\n",
       "       5.77206056e-03, 9.73300009e-06, 5.36894377e-01, 8.44891252e-01,\n",
       "       6.83366121e-01, 4.08639138e-01, 7.81179844e-01, 1.37726147e-01,\n",
       "       4.94826210e-01, 7.66638787e-01, 9.49105895e-03, 9.77676112e-01,\n",
       "       2.07633623e-01, 8.54265299e-01, 4.03114745e-01, 6.25029901e-01,\n",
       "       5.45171004e-02, 4.28030198e-01, 9.76923932e-01, 9.87160124e-01,\n",
       "       5.87073615e-01, 2.91324780e-01, 4.07875738e-01, 3.52975430e-01,\n",
       "       3.00576580e-01, 3.75696618e-02, 3.31387608e-03, 2.24745433e-02,\n",
       "       5.51184809e-01, 9.99610437e-01, 1.26473809e-01, 1.92774511e-01])"
      ]
     },
     "execution_count": 32,
     "metadata": {},
     "output_type": "execute_result"
    }
   ],
   "source": [
    "# ваш код тут\n",
    "# например вот такое распределение https://docs.scipy.org/doc/scipy/reference/generated/scipy.stats.cosine.html#scipy.stats.cosine\n",
    "arcsine_rv = sts.arcsine(0, 1)\n",
    "sample = arcsine_rv.rvs(100)\n",
    "sample"
   ]
  },
  {
   "cell_type": "code",
   "execution_count": 33,
   "metadata": {
    "colab": {
     "base_uri": "https://localhost:8080/",
     "height": 35
    },
    "id": "ScsjsI4oXgKR",
    "outputId": "86833794-f43b-436e-a0e4-c3b7483df016"
   },
   "outputs": [
    {
     "data": {
      "text/plain": [
       "dtype('float64')"
      ]
     },
     "execution_count": 33,
     "metadata": {},
     "output_type": "execute_result"
    }
   ],
   "source": [
    "sample.dtype"
   ]
  },
  {
   "cell_type": "code",
   "execution_count": 34,
   "metadata": {
    "id": "pXTNSqAOCYX4"
   },
   "outputs": [
    {
     "data": {
      "text/plain": [
       "0.5"
      ]
     },
     "execution_count": 34,
     "metadata": {},
     "output_type": "execute_result"
    }
   ],
   "source": [
    "real_mean = arcsine_rv.mean() # настоящее среднее случайной величины\n",
    "real_mean"
   ]
  },
  {
   "cell_type": "code",
   "execution_count": 35,
   "metadata": {
    "id": "5x4hFKaUCWSY"
   },
   "outputs": [
    {
     "data": {
      "text/plain": [
       "0.125"
      ]
     },
     "execution_count": 35,
     "metadata": {},
     "output_type": "execute_result"
    }
   ],
   "source": [
    "real_var = arcsine_rv.var() # настоящая дисперсия случайной величины\n",
    "real_var"
   ]
  },
  {
   "cell_type": "markdown",
   "metadata": {
    "id": "4bNn15giIX77"
   },
   "source": [
    "### Постройте гистограмму выборки и теоретическую плотность распределения"
   ]
  },
  {
   "cell_type": "code",
   "execution_count": 36,
   "metadata": {
    "colab": {
     "base_uri": "https://localhost:8080/",
     "height": 283
    },
    "id": "CwbvqecvIcXN",
    "outputId": "ace01d5d-2552-499b-bc4f-1eb19166af83"
   },
   "outputs": [
    {
     "name": "stderr",
     "output_type": "stream",
     "text": [
      "C:\\Users\\DNS\\anaconda3\\lib\\site-packages\\scipy\\stats\\_continuous_distns.py:496: RuntimeWarning: divide by zero encountered in true_divide\n",
      "  return 1.0/np.pi/np.sqrt(x*(1-x))\n"
     ]
    },
    {
     "data": {
      "text/plain": [
       "<matplotlib.legend.Legend at 0x16589a3c250>"
      ]
     },
     "execution_count": 36,
     "metadata": {},
     "output_type": "execute_result"
    },
    {
     "data": {
      "image/png": "[encoded data removed]",
      "text/plain": [
       "<Figure size 432x288 with 1 Axes>"
      ]
     },
     "metadata": {
      "needs_background": "light"
     },
     "output_type": "display_data"
    }
   ],
   "source": [
    "# ваш код тут\n",
    "plt.hist(sample, density=True)\n",
    "x = np.linspace(-1,2,100)\n",
    "cdf = arcsine_rv.pdf(x)\n",
    "plt.plot(x, cdf, label='теоретическая плотность', alpha=0.5)\n",
    "plt.legend()"
   ]
  },
  {
   "cell_type": "code",
   "execution_count": 37,
   "metadata": {
    "colab": {
     "base_uri": "https://localhost:8080/",
     "height": 51
    },
    "id": "rKd5XFelBqe7",
    "outputId": "32773b82-a3e9-46a2-b06d-a94d667d4f66"
   },
   "outputs": [
    {
     "name": "stdout",
     "output_type": "stream",
     "text": [
      "0.491058787405308\n",
      "0.12158665968527967\n"
     ]
    }
   ],
   "source": [
    "sample_mean = sample.mean() # выборочное среднее\n",
    "print(sample_mean)\n",
    "sample_var = sample.var() # выборочная дисперсия\n",
    "print(sample_var)"
   ]
  },
  {
   "cell_type": "markdown",
   "metadata": {
    "id": "qPuHR68NId_Z"
   },
   "source": [
    "### Оценим распределение выборочного среднего для разных объёмов выборок\n",
    "Для этого постройте на одном полотне гистограмму выборочных средних и теоретическое распределение выборочных средних по ЦПТ для разных объёмов выборок.\n",
    "\n",
    "Для теоретического распределение используйте настоящие значения мат ожидания и дисперсии (не приближенные на основе выборки)."
   ]
  },
  {
   "cell_type": "code",
   "execution_count": 38,
   "metadata": {
    "scrolled": true
   },
   "outputs": [
    {
     "data": {
      "image/png": "[encoded data removed]",
      "text/plain": [
       "<Figure size 1152x648 with 1 Axes>"
      ]
     },
     "metadata": {
      "needs_background": "light"
     },
     "output_type": "display_data"
    }
   ],
   "source": [
    "# ваш код тут\n",
    "\n",
    "plt.figure(figsize=(16,9))\n",
    "# сгенерируем много выборочных средних\n",
    "for N in [10, 100, 1000, 10000]:\n",
    "    means = []\n",
    "    for i in range(1000):\n",
    "         means.append(np.mean(arcsine_rv.rvs(N)))\n",
    "    plt.hist(means, alpha=0.5)\n",
    "\n",
    "plt.legend(['10', '100', '1000', '10000'])\n",
    "plt.show()"
   ]
  },
  {
   "cell_type": "markdown",
   "metadata": {
    "id": "TF1onBy_J7sX"
   },
   "source": [
    "Как вы считаете, для выбранного распределения апроксимация распределения выборочного среднего работает хорошо или плохо?\n",
    "**Ваш ответ:**"
   ]
  },
  {
   "cell_type": "code",
   "execution_count": 28,
   "metadata": {
    "id": "1BEsK495KIuM"
   },
   "outputs": [
    {
     "name": "stdout",
     "output_type": "stream",
     "text": [
      "Для выбранного распределения апроксимация распределения выборочного среднего работает хорошо.\n"
     ]
    }
   ],
   "source": [
    "print('Для выбранного распределения апроксимация распределения выборочного среднего работает хорошо.')"
   ]
  },
  {
   "cell_type": "markdown",
   "metadata": {
    "id": "xEyWxfjSfxGp"
   },
   "source": [
    "## Доверительный интервал на основе ЦПТ\n",
    "Возьмите данные для оттока телеком компании, и постройте доверительные интервалы для среднего значения total day calls, используя центральную предельную теорему в разбиении по колонке churn (ушел/не ушел). \n",
    "\n",
    "Для оценки дисперсии используйте несмещенную оценку (параметр ddof=1).\n",
    "\n",
    "Сделайте оценку с использованием явной формулы для z интервала, а затем с помощью функций \n",
    "`from statsmodels.stats.weightstats import _zconfint_generic`. Сравните результаты.\n",
    "\n",
    "\n",
    "Ссылка на данные: https://drive.google.com/file/d/1X_drKqoarnU2Sz2har7uSCsgyhh8Xtz8/view?usp=sharing"
   ]
  },
  {
   "cell_type": "code",
   "execution_count": 2,
   "metadata": {
    "id": "56V0za8GfxeL",
    "scrolled": true
   },
   "outputs": [
    {
     "data": {
      "text/html": [
       "<div>\n",
       "<style scoped>\n",
       "    .dataframe tbody tr th:only-of-type {\n",
       "        vertical-align: middle;\n",
       "    }\n",
       "\n",
       "    .dataframe tbody tr th {\n",
       "        vertical-align: top;\n",
       "    }\n",
       "\n",
       "    .dataframe thead th {\n",
       "        text-align: right;\n",
       "    }\n",
       "</style>\n",
       "<table border=\"1\" class=\"dataframe\">\n",
       "  <thead>\n",
       "    <tr style=\"text-align: right;\">\n",
       "      <th></th>\n",
       "      <th>state</th>\n",
       "      <th>account length</th>\n",
       "      <th>area code</th>\n",
       "      <th>phone number</th>\n",
       "      <th>international plan</th>\n",
       "      <th>voice mail plan</th>\n",
       "      <th>number vmail messages</th>\n",
       "      <th>total day minutes</th>\n",
       "      <th>total day calls</th>\n",
       "      <th>total day charge</th>\n",
       "      <th>...</th>\n",
       "      <th>total eve calls</th>\n",
       "      <th>total eve charge</th>\n",
       "      <th>total night minutes</th>\n",
       "      <th>total night calls</th>\n",
       "      <th>total night charge</th>\n",
       "      <th>total intl minutes</th>\n",
       "      <th>total intl calls</th>\n",
       "      <th>total intl charge</th>\n",
       "      <th>customer service calls</th>\n",
       "      <th>churn</th>\n",
       "    </tr>\n",
       "  </thead>\n",
       "  <tbody>\n",
       "    <tr>\n",
       "      <th>0</th>\n",
       "      <td>KS</td>\n",
       "      <td>128</td>\n",
       "      <td>415</td>\n",
       "      <td>382-4657</td>\n",
       "      <td>no</td>\n",
       "      <td>yes</td>\n",
       "      <td>25</td>\n",
       "      <td>265.1</td>\n",
       "      <td>110</td>\n",
       "      <td>45.07</td>\n",
       "      <td>...</td>\n",
       "      <td>99</td>\n",
       "      <td>16.78</td>\n",
       "      <td>244.7</td>\n",
       "      <td>91</td>\n",
       "      <td>11.01</td>\n",
       "      <td>10.0</td>\n",
       "      <td>3</td>\n",
       "      <td>2.70</td>\n",
       "      <td>1</td>\n",
       "      <td>False</td>\n",
       "    </tr>\n",
       "    <tr>\n",
       "      <th>1</th>\n",
       "      <td>OH</td>\n",
       "      <td>107</td>\n",
       "      <td>415</td>\n",
       "      <td>371-7191</td>\n",
       "      <td>no</td>\n",
       "      <td>yes</td>\n",
       "      <td>26</td>\n",
       "      <td>161.6</td>\n",
       "      <td>123</td>\n",
       "      <td>27.47</td>\n",
       "      <td>...</td>\n",
       "      <td>103</td>\n",
       "      <td>16.62</td>\n",
       "      <td>254.4</td>\n",
       "      <td>103</td>\n",
       "      <td>11.45</td>\n",
       "      <td>13.7</td>\n",
       "      <td>3</td>\n",
       "      <td>3.70</td>\n",
       "      <td>1</td>\n",
       "      <td>False</td>\n",
       "    </tr>\n",
       "    <tr>\n",
       "      <th>2</th>\n",
       "      <td>NJ</td>\n",
       "      <td>137</td>\n",
       "      <td>415</td>\n",
       "      <td>358-1921</td>\n",
       "      <td>no</td>\n",
       "      <td>no</td>\n",
       "      <td>0</td>\n",
       "      <td>243.4</td>\n",
       "      <td>114</td>\n",
       "      <td>41.38</td>\n",
       "      <td>...</td>\n",
       "      <td>110</td>\n",
       "      <td>10.30</td>\n",
       "      <td>162.6</td>\n",
       "      <td>104</td>\n",
       "      <td>7.32</td>\n",
       "      <td>12.2</td>\n",
       "      <td>5</td>\n",
       "      <td>3.29</td>\n",
       "      <td>0</td>\n",
       "      <td>False</td>\n",
       "    </tr>\n",
       "    <tr>\n",
       "      <th>3</th>\n",
       "      <td>OH</td>\n",
       "      <td>84</td>\n",
       "      <td>408</td>\n",
       "      <td>375-9999</td>\n",
       "      <td>yes</td>\n",
       "      <td>no</td>\n",
       "      <td>0</td>\n",
       "      <td>299.4</td>\n",
       "      <td>71</td>\n",
       "      <td>50.90</td>\n",
       "      <td>...</td>\n",
       "      <td>88</td>\n",
       "      <td>5.26</td>\n",
       "      <td>196.9</td>\n",
       "      <td>89</td>\n",
       "      <td>8.86</td>\n",
       "      <td>6.6</td>\n",
       "      <td>7</td>\n",
       "      <td>1.78</td>\n",
       "      <td>2</td>\n",
       "      <td>False</td>\n",
       "    </tr>\n",
       "    <tr>\n",
       "      <th>4</th>\n",
       "      <td>OK</td>\n",
       "      <td>75</td>\n",
       "      <td>415</td>\n",
       "      <td>330-6626</td>\n",
       "      <td>yes</td>\n",
       "      <td>no</td>\n",
       "      <td>0</td>\n",
       "      <td>166.7</td>\n",
       "      <td>113</td>\n",
       "      <td>28.34</td>\n",
       "      <td>...</td>\n",
       "      <td>122</td>\n",
       "      <td>12.61</td>\n",
       "      <td>186.9</td>\n",
       "      <td>121</td>\n",
       "      <td>8.41</td>\n",
       "      <td>10.1</td>\n",
       "      <td>3</td>\n",
       "      <td>2.73</td>\n",
       "      <td>3</td>\n",
       "      <td>False</td>\n",
       "    </tr>\n",
       "  </tbody>\n",
       "</table>\n",
       "<p>5 rows × 21 columns</p>\n",
       "</div>"
      ],
      "text/plain": [
       "  state  account length  area code phone number international plan  \\\n",
       "0    KS             128        415     382-4657                 no   \n",
       "1    OH             107        415     371-7191                 no   \n",
       "2    NJ             137        415     358-1921                 no   \n",
       "3    OH              84        408     375-9999                yes   \n",
       "4    OK              75        415     330-6626                yes   \n",
       "\n",
       "  voice mail plan  number vmail messages  total day minutes  total day calls  \\\n",
       "0             yes                     25              265.1              110   \n",
       "1             yes                     26              161.6              123   \n",
       "2              no                      0              243.4              114   \n",
       "3              no                      0              299.4               71   \n",
       "4              no                      0              166.7              113   \n",
       "\n",
       "   total day charge  ...  total eve calls  total eve charge  \\\n",
       "0             45.07  ...               99             16.78   \n",
       "1             27.47  ...              103             16.62   \n",
       "2             41.38  ...              110             10.30   \n",
       "3             50.90  ...               88              5.26   \n",
       "4             28.34  ...              122             12.61   \n",
       "\n",
       "   total night minutes  total night calls  total night charge  \\\n",
       "0                244.7                 91               11.01   \n",
       "1                254.4                103               11.45   \n",
       "2                162.6                104                7.32   \n",
       "3                196.9                 89                8.86   \n",
       "4                186.9                121                8.41   \n",
       "\n",
       "   total intl minutes  total intl calls  total intl charge  \\\n",
       "0                10.0                 3               2.70   \n",
       "1                13.7                 3               3.70   \n",
       "2                12.2                 5               3.29   \n",
       "3                 6.6                 7               1.78   \n",
       "4                10.1                 3               2.73   \n",
       "\n",
       "   customer service calls  churn  \n",
       "0                       1  False  \n",
       "1                       1  False  \n",
       "2                       0  False  \n",
       "3                       2  False  \n",
       "4                       3  False  \n",
       "\n",
       "[5 rows x 21 columns]"
      ]
     },
     "execution_count": 2,
     "metadata": {},
     "output_type": "execute_result"
    }
   ],
   "source": [
    "import requests\n",
    "import io\n",
    "\n",
    "url ='https://drive.google.com/uc?export=download&id=1X_drKqoarnU2Sz2har7uSCsgyhh8Xtz8'\n",
    "s = requests.get(url).content\n",
    "df=pd.read_csv(io.StringIO(s.decode('UTF8')))\n",
    "df.head()"
   ]
  },
  {
   "cell_type": "code",
   "execution_count": 3,
   "metadata": {},
   "outputs": [
    {
     "data": {
      "text/html": [
       "<div>\n",
       "<style scoped>\n",
       "    .dataframe tbody tr th:only-of-type {\n",
       "        vertical-align: middle;\n",
       "    }\n",
       "\n",
       "    .dataframe tbody tr th {\n",
       "        vertical-align: top;\n",
       "    }\n",
       "\n",
       "    .dataframe thead th {\n",
       "        text-align: right;\n",
       "    }\n",
       "</style>\n",
       "<table border=\"1\" class=\"dataframe\">\n",
       "  <thead>\n",
       "    <tr style=\"text-align: right;\">\n",
       "      <th></th>\n",
       "      <th>total day calls</th>\n",
       "      <th>churn</th>\n",
       "    </tr>\n",
       "  </thead>\n",
       "  <tbody>\n",
       "    <tr>\n",
       "      <th>0</th>\n",
       "      <td>110</td>\n",
       "      <td>False</td>\n",
       "    </tr>\n",
       "    <tr>\n",
       "      <th>1</th>\n",
       "      <td>123</td>\n",
       "      <td>False</td>\n",
       "    </tr>\n",
       "    <tr>\n",
       "      <th>2</th>\n",
       "      <td>114</td>\n",
       "      <td>False</td>\n",
       "    </tr>\n",
       "    <tr>\n",
       "      <th>3</th>\n",
       "      <td>71</td>\n",
       "      <td>False</td>\n",
       "    </tr>\n",
       "    <tr>\n",
       "      <th>4</th>\n",
       "      <td>113</td>\n",
       "      <td>False</td>\n",
       "    </tr>\n",
       "  </tbody>\n",
       "</table>\n",
       "</div>"
      ],
      "text/plain": [
       "   total day calls  churn\n",
       "0              110  False\n",
       "1              123  False\n",
       "2              114  False\n",
       "3               71  False\n",
       "4              113  False"
      ]
     },
     "execution_count": 3,
     "metadata": {},
     "output_type": "execute_result"
    }
   ],
   "source": [
    "url ='https://drive.google.com/uc?export=download&id=1X_drKqoarnU2Sz2har7uSCsgyhh8Xtz8'\n",
    "df = pd.read_csv(url)[['total day calls', 'churn']]\n",
    "df.head()"
   ]
  },
  {
   "cell_type": "code",
   "execution_count": 4,
   "metadata": {},
   "outputs": [
    {
     "name": "stdout",
     "output_type": "stream",
     "text": [
      "Доверительный интервал для среднего по цпт, если нам известна дисперсия - churn (ушел): [99.37134576363385, 103.2994616897823] \n"
     ]
    }
   ],
   "source": [
    "print(\"Доверительный интервал для среднего по цпт, если нам известна дисперсия - churn (ушел): [{}, {}] \".format(\n",
    "    df[df['churn'] == True]['total day calls'].mean() - 2 *  df[df['churn'] == True]['total day calls'].std() / np.sqrt(df[df['churn'] == True].shape[0]), df[df['churn'] == True]['total day calls'].mean() + 2 * df[df['churn'] == True]['total day calls'].std() / np.sqrt(df[df['churn'] == True].shape[0]) \n",
    "))"
   ]
  },
  {
   "cell_type": "code",
   "execution_count": 5,
   "metadata": {},
   "outputs": [
    {
     "data": {
      "text/plain": [
       "465.79598463957115"
      ]
     },
     "execution_count": 5,
     "metadata": {},
     "output_type": "execute_result"
    }
   ],
   "source": [
    "df[df['churn'] == True]['total day calls'].var(ddof=1)"
   ]
  },
  {
   "cell_type": "code",
   "execution_count": 6,
   "metadata": {},
   "outputs": [
    {
     "name": "stdout",
     "output_type": "stream",
     "text": [
      "Доверительный интервал для среднего по цпт, если нам известна дисперсия - churn (не ушел): [99.54133858857831, 101.02497720089538] \n"
     ]
    }
   ],
   "source": [
    "print(\"Доверительный интервал для среднего по цпт, если нам известна дисперсия - churn (не ушел): [{}, {}] \".format(\n",
    "    df[df['churn'] == False]['total day calls'].mean() - 2 *  df[df['churn'] == False]['total day calls'].std() / np.sqrt(df[df['churn'] == False].shape[0]), df[df['churn'] == False]['total day calls'].mean() + 2 * df[df['churn'] == False]['total day calls'].std() / np.sqrt(df[df['churn'] == False].shape[0]) \n",
    "))"
   ]
  },
  {
   "cell_type": "code",
   "execution_count": 7,
   "metadata": {},
   "outputs": [
    {
     "data": {
      "text/plain": [
       "392.08581663003537"
      ]
     },
     "execution_count": 7,
     "metadata": {},
     "output_type": "execute_result"
    }
   ],
   "source": [
    "df[df['churn'] == False]['total day calls'].var(ddof=1)"
   ]
  },
  {
   "cell_type": "code",
   "execution_count": 8,
   "metadata": {},
   "outputs": [],
   "source": [
    "df['Z'] = (df['total day calls'] - df['total day calls'].mean())/df['total day calls'].std()"
   ]
  },
  {
   "cell_type": "code",
   "execution_count": 9,
   "metadata": {},
   "outputs": [
    {
     "data": {
      "text/html": [
       "<div>\n",
       "<style scoped>\n",
       "    .dataframe tbody tr th:only-of-type {\n",
       "        vertical-align: middle;\n",
       "    }\n",
       "\n",
       "    .dataframe tbody tr th {\n",
       "        vertical-align: top;\n",
       "    }\n",
       "\n",
       "    .dataframe thead th {\n",
       "        text-align: right;\n",
       "    }\n",
       "</style>\n",
       "<table border=\"1\" class=\"dataframe\">\n",
       "  <thead>\n",
       "    <tr style=\"text-align: right;\">\n",
       "      <th></th>\n",
       "      <th>total day calls</th>\n",
       "      <th>churn</th>\n",
       "      <th>Z</th>\n",
       "    </tr>\n",
       "  </thead>\n",
       "  <tbody>\n",
       "    <tr>\n",
       "      <th>0</th>\n",
       "      <td>110</td>\n",
       "      <td>False</td>\n",
       "      <td>0.476572</td>\n",
       "    </tr>\n",
       "    <tr>\n",
       "      <th>1</th>\n",
       "      <td>123</td>\n",
       "      <td>False</td>\n",
       "      <td>1.124334</td>\n",
       "    </tr>\n",
       "    <tr>\n",
       "      <th>2</th>\n",
       "      <td>114</td>\n",
       "      <td>False</td>\n",
       "      <td>0.675883</td>\n",
       "    </tr>\n",
       "    <tr>\n",
       "      <th>3</th>\n",
       "      <td>71</td>\n",
       "      <td>False</td>\n",
       "      <td>-1.466716</td>\n",
       "    </tr>\n",
       "    <tr>\n",
       "      <th>4</th>\n",
       "      <td>113</td>\n",
       "      <td>False</td>\n",
       "      <td>0.626055</td>\n",
       "    </tr>\n",
       "    <tr>\n",
       "      <th>...</th>\n",
       "      <td>...</td>\n",
       "      <td>...</td>\n",
       "      <td>...</td>\n",
       "    </tr>\n",
       "    <tr>\n",
       "      <th>3328</th>\n",
       "      <td>77</td>\n",
       "      <td>False</td>\n",
       "      <td>-1.167749</td>\n",
       "    </tr>\n",
       "    <tr>\n",
       "      <th>3329</th>\n",
       "      <td>57</td>\n",
       "      <td>False</td>\n",
       "      <td>-2.164306</td>\n",
       "    </tr>\n",
       "    <tr>\n",
       "      <th>3330</th>\n",
       "      <td>109</td>\n",
       "      <td>False</td>\n",
       "      <td>0.426744</td>\n",
       "    </tr>\n",
       "    <tr>\n",
       "      <th>3331</th>\n",
       "      <td>105</td>\n",
       "      <td>False</td>\n",
       "      <td>0.227432</td>\n",
       "    </tr>\n",
       "    <tr>\n",
       "      <th>3332</th>\n",
       "      <td>113</td>\n",
       "      <td>False</td>\n",
       "      <td>0.626055</td>\n",
       "    </tr>\n",
       "  </tbody>\n",
       "</table>\n",
       "<p>3333 rows × 3 columns</p>\n",
       "</div>"
      ],
      "text/plain": [
       "      total day calls  churn         Z\n",
       "0                 110  False  0.476572\n",
       "1                 123  False  1.124334\n",
       "2                 114  False  0.675883\n",
       "3                  71  False -1.466716\n",
       "4                 113  False  0.626055\n",
       "...               ...    ...       ...\n",
       "3328               77  False -1.167749\n",
       "3329               57  False -2.164306\n",
       "3330              109  False  0.426744\n",
       "3331              105  False  0.227432\n",
       "3332              113  False  0.626055\n",
       "\n",
       "[3333 rows x 3 columns]"
      ]
     },
     "execution_count": 9,
     "metadata": {},
     "output_type": "execute_result"
    }
   ],
   "source": [
    "df"
   ]
  },
  {
   "cell_type": "code",
   "execution_count": 10,
   "metadata": {},
   "outputs": [],
   "source": [
    "from statsmodels.stats.weightstats import _zconfint_generic"
   ]
  },
  {
   "cell_type": "code",
   "execution_count": 11,
   "metadata": {},
   "outputs": [
    {
     "data": {
      "text/plain": [
       "(0       -86.850244\n",
       " 1       -73.850244\n",
       " 2       -82.850244\n",
       " 3      -125.850244\n",
       " 4       -83.850244\n",
       "            ...    \n",
       " 3328   -119.850244\n",
       " 3329   -139.850244\n",
       " 3330    -87.850244\n",
       " 3331    -91.850244\n",
       " 3332    -83.850244\n",
       " Name: total day calls, Length: 3333, dtype: float64,\n",
       " 0       306.850244\n",
       " 1       319.850244\n",
       " 2       310.850244\n",
       " 3       267.850244\n",
       " 4       309.850244\n",
       "            ...    \n",
       " 3328    273.850244\n",
       " 3329    253.850244\n",
       " 3330    305.850244\n",
       " 3331    301.850244\n",
       " 3332    309.850244\n",
       " Name: total day calls, Length: 3333, dtype: float64)"
      ]
     },
     "execution_count": 11,
     "metadata": {},
     "output_type": "execute_result"
    }
   ],
   "source": [
    "_zconfint_generic(df['total day calls'], df['total day calls'].mean(), 0.05, 'two-sided')"
   ]
  },
  {
   "cell_type": "code",
   "execution_count": 12,
   "metadata": {},
   "outputs": [
    {
     "data": {
      "text/plain": [
       "100.43564356435644"
      ]
     },
     "execution_count": 12,
     "metadata": {},
     "output_type": "execute_result"
    }
   ],
   "source": [
    "df['total day calls'].mean()"
   ]
  },
  {
   "cell_type": "code",
   "execution_count": null,
   "metadata": {},
   "outputs": [],
   "source": []
  }
 ],
 "metadata": {
  "colab": {
   "collapsed_sections": [],
   "name": "Практика к занятию 12.ipynb",
   "provenance": []
  },
  "kernelspec": {
   "display_name": "Python 3",
   "language": "python",
   "name": "python3"
  },
  "language_info": {
   "codemirror_mode": {
    "name": "ipython",
    "version": 3
   },
   "file_extension": ".py",
   "mimetype": "text/x-python",
   "name": "python",
   "nbconvert_exporter": "python",
   "pygments_lexer": "ipython3",
   "version": "3.8.8"
  },
  "toc": {
   "base_numbering": 1,
   "nav_menu": {},
   "number_sections": true,
   "sideBar": true,
   "skip_h1_title": false,
   "title_cell": "Table of Contents",
   "title_sidebar": "Contents",
   "toc_cell": true,
   "toc_position": {},
   "toc_section_display": true,
   "toc_window_display": false
  }
 },
 "nbformat": 4,
 "nbformat_minor": 1
}
