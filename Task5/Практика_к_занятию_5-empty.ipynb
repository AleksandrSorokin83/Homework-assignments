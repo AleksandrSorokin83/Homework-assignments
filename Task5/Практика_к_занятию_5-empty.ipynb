{
 "cells": [
  {
   "cell_type": "markdown",
   "metadata": {
    "toc": true
   },
   "source": [
    "<h1>Table of Contents<span class=\"tocSkip\"></span></h1>\n",
    "<div class=\"toc\"><ul class=\"toc-item\"><li><span><a href=\"#Практика\" data-toc-modified-id=\"Практика-1\"><span class=\"toc-item-num\">1&nbsp;&nbsp;</span>Практика</a></span><ul class=\"toc-item\"><li><span><a href=\"#ЦПТ-для-различных-распределений\" data-toc-modified-id=\"ЦПТ-для-различных-распределений-1.1\"><span class=\"toc-item-num\">1.1&nbsp;&nbsp;</span>ЦПТ для различных распределений</a></span><ul class=\"toc-item\"><li><span><a href=\"#Сгенерируйте-примеры-из-распределения\" data-toc-modified-id=\"Сгенерируйте-примеры-из-распределения-1.1.1\"><span class=\"toc-item-num\">1.1.1&nbsp;&nbsp;</span>Сгенерируйте примеры из распределения</a></span></li><li><span><a href=\"#Постройте-гистограмму-выборки-и-теоретическую-плотность-распределения\" data-toc-modified-id=\"Постройте-гистограмму-выборки-и-теоретическую-плотность-распределения-1.1.2\"><span class=\"toc-item-num\">1.1.2&nbsp;&nbsp;</span>Постройте гистограмму выборки и теоретическую плотность распределения</a></span></li><li><span><a href=\"#Оценим-распределение-выборочного-среднего-для-разных-объёмов-выборок\" data-toc-modified-id=\"Оценим-распределение-выборочного-среднего-для-разных-объёмов-выборок-1.1.3\"><span class=\"toc-item-num\">1.1.3&nbsp;&nbsp;</span>Оценим распределение выборочного среднего для разных объёмов выборок</a></span></li></ul></li><li><span><a href=\"#Доверительный-интервал-на-основе-ЦПТ\" data-toc-modified-id=\"Доверительный-интервал-на-основе-ЦПТ-1.2\"><span class=\"toc-item-num\">1.2&nbsp;&nbsp;</span>Доверительный интервал на основе ЦПТ</a></span></li></ul></li></ul></div>"
   ]
  },
  {
   "cell_type": "markdown",
   "metadata": {
    "id": "pDrecLU-4QjS"
   },
   "source": [
    "# Практика"
   ]
  },
  {
   "cell_type": "code",
   "execution_count": 1,
   "metadata": {
    "id": "a6XFMuQUG6jO"
   },
   "outputs": [],
   "source": [
    "import pandas as pd\n",
    "import numpy as np\n",
    "import matplotlib.pyplot as plt\n",
    "import scipy.stats as sts\n",
    "import math\n",
    "%matplotlib inline"
   ]
  },
  {
   "cell_type": "markdown",
   "metadata": {
    "id": "5owLnS0MHJnz"
   },
   "source": [
    "## ЦПТ для различных распределений\n",
    "Возьмите то непрерывное распределение, которое вам больше всего понравится из списка доступных в модуле [scipy.stats](https://docs.scipy.org/doc/scipy/reference/stats.html)."
   ]
  },
  {
   "cell_type": "markdown",
   "metadata": {
    "id": "v1IvIGF9IRgH"
   },
   "source": [
    "### Сгенерируйте примеры из распределения"
   ]
  },
  {
   "cell_type": "code",
   "execution_count": 19,
   "metadata": {
    "colab": {
     "base_uri": "https://localhost:8080/",
     "height": 377
    },
    "id": "l4oTC1NSHvl7",
    "outputId": "52df1553-6d91-4452-9ade-e2a62a8d7ff2",
    "scrolled": false
   },
   "outputs": [
    {
     "data": {
      "text/plain": [
       "array([6.07083789e-01, 3.01977246e-06, 9.03076649e-01, 9.47736402e-01,\n",
       "       5.79867387e-01, 9.60328953e-01, 1.47619401e-01, 5.45417510e-01,\n",
       "       3.77583179e-01, 9.87729909e-01, 5.95496026e-01, 7.80586032e-01,\n",
       "       2.44156712e-01, 1.91033660e-01, 5.94124977e-01, 2.73420978e-03,\n",
       "       3.18070071e-01, 3.14054233e-01, 3.79245637e-03, 9.83670321e-01,\n",
       "       8.02823767e-01, 9.44618538e-01, 4.10948177e-01, 5.70307787e-02,\n",
       "       9.96541770e-01, 3.72664471e-03, 9.99564765e-01, 1.17661668e-02,\n",
       "       1.61767300e-01, 3.96255454e-01, 9.98670931e-01, 3.14799248e-01,\n",
       "       9.05622346e-02, 2.07467487e-01, 5.64968869e-01, 5.90307950e-01,\n",
       "       4.25135248e-01, 3.36164025e-01, 6.83714972e-01, 6.27300391e-01,\n",
       "       2.67176270e-01, 6.43442036e-01, 3.63878701e-01, 5.61911788e-01,\n",
       "       5.08241323e-02, 1.26474785e-02, 2.79153166e-01, 1.08381994e-01,\n",
       "       9.06877431e-01, 1.69818773e-01, 9.62653868e-01, 8.36437388e-01,\n",
       "       3.70443753e-01, 6.67839284e-02, 5.05491872e-01, 1.62499789e-01,\n",
       "       1.66940158e-03, 5.02989272e-01, 7.94930820e-01, 9.47914745e-01,\n",
       "       2.31617831e-03, 6.23957941e-02, 7.05104643e-01, 9.67727801e-01,\n",
       "       4.53348148e-01, 6.39136518e-02, 4.37449415e-01, 2.55411079e-01,\n",
       "       9.98615001e-01, 3.86040915e-01, 7.27884010e-01, 7.77502646e-01,\n",
       "       8.74483793e-01, 3.53749687e-01, 2.15425455e-01, 4.90182761e-01,\n",
       "       9.39337979e-01, 9.82299178e-01, 1.05141610e-01, 1.13751350e-01,\n",
       "       7.69737602e-02, 2.00228903e-01, 9.98715627e-01, 8.99325322e-01,\n",
       "       6.60840676e-01, 4.74275835e-01, 6.20637261e-01, 6.78125977e-01,\n",
       "       9.88294720e-01, 9.95877685e-01, 8.07338580e-01, 7.26077791e-01,\n",
       "       5.19123005e-01, 6.19211098e-01, 2.43593476e-01, 4.95502685e-01,\n",
       "       1.40736040e-01, 9.96067478e-01, 9.23427501e-01, 9.24100118e-01])"
      ]
     },
     "execution_count": 19,
     "metadata": {},
     "output_type": "execute_result"
    }
   ],
   "source": [
    "# ваш код тут\n",
    "# например вот такое распределение https://docs.scipy.org/doc/scipy/reference/generated/scipy.stats.cosine.html#scipy.stats.cosine\n",
    "arcsine_rv = sts.arcsine(0, 1)\n",
    "sample = arcsine_rv.rvs(100)\n",
    "sample"
   ]
  },
  {
   "cell_type": "code",
   "execution_count": 20,
   "metadata": {
    "colab": {
     "base_uri": "https://localhost:8080/",
     "height": 35
    },
    "id": "ScsjsI4oXgKR",
    "outputId": "86833794-f43b-436e-a0e4-c3b7483df016"
   },
   "outputs": [
    {
     "data": {
      "text/plain": [
       "dtype('float64')"
      ]
     },
     "execution_count": 20,
     "metadata": {},
     "output_type": "execute_result"
    }
   ],
   "source": [
    "sample.dtype"
   ]
  },
  {
   "cell_type": "code",
   "execution_count": 21,
   "metadata": {
    "id": "pXTNSqAOCYX4"
   },
   "outputs": [
    {
     "data": {
      "text/plain": [
       "0.5"
      ]
     },
     "execution_count": 21,
     "metadata": {},
     "output_type": "execute_result"
    }
   ],
   "source": [
    "real_mean = arcsine_rv.mean() # настоящее среднее случайной величины\n",
    "real_mean"
   ]
  },
  {
   "cell_type": "code",
   "execution_count": 22,
   "metadata": {
    "id": "5x4hFKaUCWSY"
   },
   "outputs": [
    {
     "data": {
      "text/plain": [
       "0.125"
      ]
     },
     "execution_count": 22,
     "metadata": {},
     "output_type": "execute_result"
    }
   ],
   "source": [
    "real_var = arcsine_rv.var() # настоящая дисперсия случайной величины\n",
    "real_var"
   ]
  },
  {
   "cell_type": "markdown",
   "metadata": {
    "id": "4bNn15giIX77"
   },
   "source": [
    "### Постройте гистограмму выборки и теоретическую плотность распределения"
   ]
  },
  {
   "cell_type": "code",
   "execution_count": 23,
   "metadata": {
    "colab": {
     "base_uri": "https://localhost:8080/",
     "height": 283
    },
    "id": "CwbvqecvIcXN",
    "outputId": "ace01d5d-2552-499b-bc4f-1eb19166af83"
   },
   "outputs": [
    {
     "data": {
      "text/plain": [
       "<matplotlib.legend.Legend at 0x2509c59c9a0>"
      ]
     },
     "execution_count": 23,
     "metadata": {},
     "output_type": "execute_result"
    },
    {
     "data": {
      "image/png": "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\n",
      "text/plain": [
       "<Figure size 432x288 with 1 Axes>"
      ]
     },
     "metadata": {
      "needs_background": "light"
     },
     "output_type": "display_data"
    }
   ],
   "source": [
    "# ваш код тут\n",
    "plt.hist(sample, density=True)\n",
    "x = np.linspace(-1,2,100)\n",
    "cdf = arcsine_rv.pdf(x)\n",
    "plt.plot(x, cdf, label='теоретическая плотность', alpha=0.5)\n",
    "plt.legend()"
   ]
  },
  {
   "cell_type": "code",
   "execution_count": 24,
   "metadata": {
    "colab": {
     "base_uri": "https://localhost:8080/",
     "height": 51
    },
    "id": "rKd5XFelBqe7",
    "outputId": "32773b82-a3e9-46a2-b06d-a94d667d4f66"
   },
   "outputs": [
    {
     "name": "stdout",
     "output_type": "stream",
     "text": [
      "0.5112478085568748\n",
      "0.11201461277695669\n"
     ]
    }
   ],
   "source": [
    "sample_mean = sample.mean() # выборочное среднее\n",
    "print(sample_mean)\n",
    "sample_var = sample.var() # выборочная дисперсия\n",
    "print(sample_var)"
   ]
  },
  {
   "cell_type": "markdown",
   "metadata": {
    "id": "qPuHR68NId_Z"
   },
   "source": [
    "### Оценим распределение выборочного среднего для разных объёмов выборок\n",
    "Для этого постройте на одном полотне гистограмму выборочных средних и теоретическое распределение выборочных средних по ЦПТ для разных объёмов выборок.\n",
    "\n",
    "Для теоретического распределение используйте настоящие значения мат ожидания и дисперсии (не приближенные на основе выборки)."
   ]
  },
  {
   "cell_type": "code",
   "execution_count": 29,
   "metadata": {
    "scrolled": true
   },
   "outputs": [
    {
     "data": {
      "image/png": "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\n",
      "text/plain": [
       "<Figure size 720x432 with 1 Axes>"
      ]
     },
     "metadata": {
      "needs_background": "light"
     },
     "output_type": "display_data"
    }
   ],
   "source": [
    "# ваш код тут\n",
    "\n",
    "plt.figure(figsize=(10,6))\n",
    "# сгенерируем много выборочных средних\n",
    "for N in [10, 100, 1000, 10000]:\n",
    "    means = []\n",
    "    for i in range(1000):\n",
    "         means.append(np.mean(arcsine_rv.rvs(N)))\n",
    "    plt.hist(means, alpha=0.5)\n",
    "\n",
    "plt.legend(['10', '100', '1000', '10000'])\n",
    "plt.show()"
   ]
  },
  {
   "cell_type": "code",
   "execution_count": null,
   "metadata": {},
   "outputs": [],
   "source": [
    "x = np.linspace(-4,4,100)\n",
    "pdf = norm_rv.pdf(x)\n",
    "plt.plot(x, pdf, label='теоретическая плотность', alpha=0.5)"
   ]
  },
  {
   "cell_type": "markdown",
   "metadata": {
    "id": "TF1onBy_J7sX"
   },
   "source": [
    "Как вы считаете, для выбранного распределения апроксимация распределения выборочного среднего работает хорошо или плохо?\n",
    "**Ваш ответ:**"
   ]
  },
  {
   "cell_type": "code",
   "execution_count": 28,
   "metadata": {
    "id": "1BEsK495KIuM"
   },
   "outputs": [
    {
     "name": "stdout",
     "output_type": "stream",
     "text": [
      "Для выбранного распределения апроксимация распределения выборочного среднего работает хорошо.\n"
     ]
    }
   ],
   "source": [
    "print('Для выбранного распределения апроксимация распределения выборочного среднего работает хорошо.')"
   ]
  },
  {
   "cell_type": "markdown",
   "metadata": {
    "id": "xEyWxfjSfxGp"
   },
   "source": [
    "## Доверительный интервал на основе ЦПТ\n",
    "Возьмите данные для оттока телеком компании, и постройте доверительные интервалы для среднего значения total day calls, используя центральную предельную теорему в разбиении по колонке churn (ушел/не ушел). \n",
    "\n",
    "Для оценки дисперсии используйте несмещенную оценку (параметр ddof=1).\n",
    "\n",
    "Сделайте оценку с использованием явной формулы для z интервала, а затем с помощью функций \n",
    "`from statsmodels.stats.weightstats import _zconfint_generic`. Сравните результаты.\n",
    "\n",
    "\n",
    "Ссылка на данные: https://drive.google.com/file/d/1X_drKqoarnU2Sz2har7uSCsgyhh8Xtz8/view?usp=sharing"
   ]
  },
  {
   "cell_type": "code",
   "execution_count": 2,
   "metadata": {
    "id": "56V0za8GfxeL",
    "scrolled": true
   },
   "outputs": [
    {
     "data": {
      "text/html": [
       "<div>\n",
       "<style scoped>\n",
       "    .dataframe tbody tr th:only-of-type {\n",
       "        vertical-align: middle;\n",
       "    }\n",
       "\n",
       "    .dataframe tbody tr th {\n",
       "        vertical-align: top;\n",
       "    }\n",
       "\n",
       "    .dataframe thead th {\n",
       "        text-align: right;\n",
       "    }\n",
       "</style>\n",
       "<table border=\"1\" class=\"dataframe\">\n",
       "  <thead>\n",
       "    <tr style=\"text-align: right;\">\n",
       "      <th></th>\n",
       "      <th>state</th>\n",
       "      <th>account length</th>\n",
       "      <th>area code</th>\n",
       "      <th>phone number</th>\n",
       "      <th>international plan</th>\n",
       "      <th>voice mail plan</th>\n",
       "      <th>number vmail messages</th>\n",
       "      <th>total day minutes</th>\n",
       "      <th>total day calls</th>\n",
       "      <th>total day charge</th>\n",
       "      <th>...</th>\n",
       "      <th>total eve calls</th>\n",
       "      <th>total eve charge</th>\n",
       "      <th>total night minutes</th>\n",
       "      <th>total night calls</th>\n",
       "      <th>total night charge</th>\n",
       "      <th>total intl minutes</th>\n",
       "      <th>total intl calls</th>\n",
       "      <th>total intl charge</th>\n",
       "      <th>customer service calls</th>\n",
       "      <th>churn</th>\n",
       "    </tr>\n",
       "  </thead>\n",
       "  <tbody>\n",
       "    <tr>\n",
       "      <th>0</th>\n",
       "      <td>KS</td>\n",
       "      <td>128</td>\n",
       "      <td>415</td>\n",
       "      <td>382-4657</td>\n",
       "      <td>no</td>\n",
       "      <td>yes</td>\n",
       "      <td>25</td>\n",
       "      <td>265.1</td>\n",
       "      <td>110</td>\n",
       "      <td>45.07</td>\n",
       "      <td>...</td>\n",
       "      <td>99</td>\n",
       "      <td>16.78</td>\n",
       "      <td>244.7</td>\n",
       "      <td>91</td>\n",
       "      <td>11.01</td>\n",
       "      <td>10.0</td>\n",
       "      <td>3</td>\n",
       "      <td>2.70</td>\n",
       "      <td>1</td>\n",
       "      <td>False</td>\n",
       "    </tr>\n",
       "    <tr>\n",
       "      <th>1</th>\n",
       "      <td>OH</td>\n",
       "      <td>107</td>\n",
       "      <td>415</td>\n",
       "      <td>371-7191</td>\n",
       "      <td>no</td>\n",
       "      <td>yes</td>\n",
       "      <td>26</td>\n",
       "      <td>161.6</td>\n",
       "      <td>123</td>\n",
       "      <td>27.47</td>\n",
       "      <td>...</td>\n",
       "      <td>103</td>\n",
       "      <td>16.62</td>\n",
       "      <td>254.4</td>\n",
       "      <td>103</td>\n",
       "      <td>11.45</td>\n",
       "      <td>13.7</td>\n",
       "      <td>3</td>\n",
       "      <td>3.70</td>\n",
       "      <td>1</td>\n",
       "      <td>False</td>\n",
       "    </tr>\n",
       "    <tr>\n",
       "      <th>2</th>\n",
       "      <td>NJ</td>\n",
       "      <td>137</td>\n",
       "      <td>415</td>\n",
       "      <td>358-1921</td>\n",
       "      <td>no</td>\n",
       "      <td>no</td>\n",
       "      <td>0</td>\n",
       "      <td>243.4</td>\n",
       "      <td>114</td>\n",
       "      <td>41.38</td>\n",
       "      <td>...</td>\n",
       "      <td>110</td>\n",
       "      <td>10.30</td>\n",
       "      <td>162.6</td>\n",
       "      <td>104</td>\n",
       "      <td>7.32</td>\n",
       "      <td>12.2</td>\n",
       "      <td>5</td>\n",
       "      <td>3.29</td>\n",
       "      <td>0</td>\n",
       "      <td>False</td>\n",
       "    </tr>\n",
       "    <tr>\n",
       "      <th>3</th>\n",
       "      <td>OH</td>\n",
       "      <td>84</td>\n",
       "      <td>408</td>\n",
       "      <td>375-9999</td>\n",
       "      <td>yes</td>\n",
       "      <td>no</td>\n",
       "      <td>0</td>\n",
       "      <td>299.4</td>\n",
       "      <td>71</td>\n",
       "      <td>50.90</td>\n",
       "      <td>...</td>\n",
       "      <td>88</td>\n",
       "      <td>5.26</td>\n",
       "      <td>196.9</td>\n",
       "      <td>89</td>\n",
       "      <td>8.86</td>\n",
       "      <td>6.6</td>\n",
       "      <td>7</td>\n",
       "      <td>1.78</td>\n",
       "      <td>2</td>\n",
       "      <td>False</td>\n",
       "    </tr>\n",
       "    <tr>\n",
       "      <th>4</th>\n",
       "      <td>OK</td>\n",
       "      <td>75</td>\n",
       "      <td>415</td>\n",
       "      <td>330-6626</td>\n",
       "      <td>yes</td>\n",
       "      <td>no</td>\n",
       "      <td>0</td>\n",
       "      <td>166.7</td>\n",
       "      <td>113</td>\n",
       "      <td>28.34</td>\n",
       "      <td>...</td>\n",
       "      <td>122</td>\n",
       "      <td>12.61</td>\n",
       "      <td>186.9</td>\n",
       "      <td>121</td>\n",
       "      <td>8.41</td>\n",
       "      <td>10.1</td>\n",
       "      <td>3</td>\n",
       "      <td>2.73</td>\n",
       "      <td>3</td>\n",
       "      <td>False</td>\n",
       "    </tr>\n",
       "  </tbody>\n",
       "</table>\n",
       "<p>5 rows × 21 columns</p>\n",
       "</div>"
      ],
      "text/plain": [
       "  state  account length  area code phone number international plan  \\\n",
       "0    KS             128        415     382-4657                 no   \n",
       "1    OH             107        415     371-7191                 no   \n",
       "2    NJ             137        415     358-1921                 no   \n",
       "3    OH              84        408     375-9999                yes   \n",
       "4    OK              75        415     330-6626                yes   \n",
       "\n",
       "  voice mail plan  number vmail messages  total day minutes  total day calls  \\\n",
       "0             yes                     25              265.1              110   \n",
       "1             yes                     26              161.6              123   \n",
       "2              no                      0              243.4              114   \n",
       "3              no                      0              299.4               71   \n",
       "4              no                      0              166.7              113   \n",
       "\n",
       "   total day charge  ...  total eve calls  total eve charge  \\\n",
       "0             45.07  ...               99             16.78   \n",
       "1             27.47  ...              103             16.62   \n",
       "2             41.38  ...              110             10.30   \n",
       "3             50.90  ...               88              5.26   \n",
       "4             28.34  ...              122             12.61   \n",
       "\n",
       "   total night minutes  total night calls  total night charge  \\\n",
       "0                244.7                 91               11.01   \n",
       "1                254.4                103               11.45   \n",
       "2                162.6                104                7.32   \n",
       "3                196.9                 89                8.86   \n",
       "4                186.9                121                8.41   \n",
       "\n",
       "   total intl minutes  total intl calls  total intl charge  \\\n",
       "0                10.0                 3               2.70   \n",
       "1                13.7                 3               3.70   \n",
       "2                12.2                 5               3.29   \n",
       "3                 6.6                 7               1.78   \n",
       "4                10.1                 3               2.73   \n",
       "\n",
       "   customer service calls  churn  \n",
       "0                       1  False  \n",
       "1                       1  False  \n",
       "2                       0  False  \n",
       "3                       2  False  \n",
       "4                       3  False  \n",
       "\n",
       "[5 rows x 21 columns]"
      ]
     },
     "execution_count": 2,
     "metadata": {},
     "output_type": "execute_result"
    }
   ],
   "source": [
    "import requests\n",
    "import io\n",
    "\n",
    "url ='https://drive.google.com/uc?export=download&id=1X_drKqoarnU2Sz2har7uSCsgyhh8Xtz8'\n",
    "s = requests.get(url).content\n",
    "df=pd.read_csv(io.StringIO(s.decode('UTF8')))\n",
    "df.head()"
   ]
  },
  {
   "cell_type": "code",
   "execution_count": 3,
   "metadata": {},
   "outputs": [
    {
     "data": {
      "text/html": [
       "<div>\n",
       "<style scoped>\n",
       "    .dataframe tbody tr th:only-of-type {\n",
       "        vertical-align: middle;\n",
       "    }\n",
       "\n",
       "    .dataframe tbody tr th {\n",
       "        vertical-align: top;\n",
       "    }\n",
       "\n",
       "    .dataframe thead th {\n",
       "        text-align: right;\n",
       "    }\n",
       "</style>\n",
       "<table border=\"1\" class=\"dataframe\">\n",
       "  <thead>\n",
       "    <tr style=\"text-align: right;\">\n",
       "      <th></th>\n",
       "      <th>total day calls</th>\n",
       "      <th>churn</th>\n",
       "    </tr>\n",
       "  </thead>\n",
       "  <tbody>\n",
       "    <tr>\n",
       "      <th>0</th>\n",
       "      <td>110</td>\n",
       "      <td>False</td>\n",
       "    </tr>\n",
       "    <tr>\n",
       "      <th>1</th>\n",
       "      <td>123</td>\n",
       "      <td>False</td>\n",
       "    </tr>\n",
       "    <tr>\n",
       "      <th>2</th>\n",
       "      <td>114</td>\n",
       "      <td>False</td>\n",
       "    </tr>\n",
       "    <tr>\n",
       "      <th>3</th>\n",
       "      <td>71</td>\n",
       "      <td>False</td>\n",
       "    </tr>\n",
       "    <tr>\n",
       "      <th>4</th>\n",
       "      <td>113</td>\n",
       "      <td>False</td>\n",
       "    </tr>\n",
       "  </tbody>\n",
       "</table>\n",
       "</div>"
      ],
      "text/plain": [
       "   total day calls  churn\n",
       "0              110  False\n",
       "1              123  False\n",
       "2              114  False\n",
       "3               71  False\n",
       "4              113  False"
      ]
     },
     "execution_count": 3,
     "metadata": {},
     "output_type": "execute_result"
    }
   ],
   "source": [
    "url ='https://drive.google.com/uc?export=download&id=1X_drKqoarnU2Sz2har7uSCsgyhh8Xtz8'\n",
    "df = pd.read_csv(url)[['total day calls', 'churn']]\n",
    "df.head()"
   ]
  },
  {
   "cell_type": "code",
   "execution_count": 4,
   "metadata": {},
   "outputs": [
    {
     "name": "stdout",
     "output_type": "stream",
     "text": [
      "Доверительный интервал для среднего по цпт, если нам известна дисперсия - churn (ушел): [99.37134576363385, 103.2994616897823] \n"
     ]
    }
   ],
   "source": [
    "print(\"Доверительный интервал для среднего по цпт, если нам известна дисперсия - churn (ушел): [{}, {}] \".format(\n",
    "    df[df['churn'] == True]['total day calls'].mean() - 2 *  df[df['churn'] == True]['total day calls'].std() / np.sqrt(df[df['churn'] == True].shape[0]), df[df['churn'] == True]['total day calls'].mean() + 2 * df[df['churn'] == True]['total day calls'].std() / np.sqrt(df[df['churn'] == True].shape[0]) \n",
    "))"
   ]
  },
  {
   "cell_type": "code",
   "execution_count": 5,
   "metadata": {},
   "outputs": [
    {
     "data": {
      "text/plain": [
       "465.79598463957115"
      ]
     },
     "execution_count": 5,
     "metadata": {},
     "output_type": "execute_result"
    }
   ],
   "source": [
    "df[df['churn'] == True]['total day calls'].var(ddof=1)"
   ]
  },
  {
   "cell_type": "code",
   "execution_count": 6,
   "metadata": {},
   "outputs": [
    {
     "name": "stdout",
     "output_type": "stream",
     "text": [
      "Доверительный интервал для среднего по цпт, если нам известна дисперсия - churn (не ушел): [99.54133858857831, 101.02497720089538] \n"
     ]
    }
   ],
   "source": [
    "print(\"Доверительный интервал для среднего по цпт, если нам известна дисперсия - churn (не ушел): [{}, {}] \".format(\n",
    "    df[df['churn'] == False]['total day calls'].mean() - 2 *  df[df['churn'] == False]['total day calls'].std() / np.sqrt(df[df['churn'] == False].shape[0]), df[df['churn'] == False]['total day calls'].mean() + 2 * df[df['churn'] == False]['total day calls'].std() / np.sqrt(df[df['churn'] == False].shape[0]) \n",
    "))"
   ]
  },
  {
   "cell_type": "code",
   "execution_count": 7,
   "metadata": {},
   "outputs": [
    {
     "data": {
      "text/plain": [
       "392.08581663003537"
      ]
     },
     "execution_count": 7,
     "metadata": {},
     "output_type": "execute_result"
    }
   ],
   "source": [
    "df[df['churn'] == False]['total day calls'].var(ddof=1)"
   ]
  },
  {
   "cell_type": "code",
   "execution_count": 8,
   "metadata": {},
   "outputs": [],
   "source": [
    "df['Z'] = (df['total day calls'] - df['total day calls'].mean())/df['total day calls'].std()"
   ]
  },
  {
   "cell_type": "code",
   "execution_count": 9,
   "metadata": {},
   "outputs": [
    {
     "data": {
      "text/html": [
       "<div>\n",
       "<style scoped>\n",
       "    .dataframe tbody tr th:only-of-type {\n",
       "        vertical-align: middle;\n",
       "    }\n",
       "\n",
       "    .dataframe tbody tr th {\n",
       "        vertical-align: top;\n",
       "    }\n",
       "\n",
       "    .dataframe thead th {\n",
       "        text-align: right;\n",
       "    }\n",
       "</style>\n",
       "<table border=\"1\" class=\"dataframe\">\n",
       "  <thead>\n",
       "    <tr style=\"text-align: right;\">\n",
       "      <th></th>\n",
       "      <th>total day calls</th>\n",
       "      <th>churn</th>\n",
       "      <th>Z</th>\n",
       "    </tr>\n",
       "  </thead>\n",
       "  <tbody>\n",
       "    <tr>\n",
       "      <th>0</th>\n",
       "      <td>110</td>\n",
       "      <td>False</td>\n",
       "      <td>0.476572</td>\n",
       "    </tr>\n",
       "    <tr>\n",
       "      <th>1</th>\n",
       "      <td>123</td>\n",
       "      <td>False</td>\n",
       "      <td>1.124334</td>\n",
       "    </tr>\n",
       "    <tr>\n",
       "      <th>2</th>\n",
       "      <td>114</td>\n",
       "      <td>False</td>\n",
       "      <td>0.675883</td>\n",
       "    </tr>\n",
       "    <tr>\n",
       "      <th>3</th>\n",
       "      <td>71</td>\n",
       "      <td>False</td>\n",
       "      <td>-1.466716</td>\n",
       "    </tr>\n",
       "    <tr>\n",
       "      <th>4</th>\n",
       "      <td>113</td>\n",
       "      <td>False</td>\n",
       "      <td>0.626055</td>\n",
       "    </tr>\n",
       "    <tr>\n",
       "      <th>...</th>\n",
       "      <td>...</td>\n",
       "      <td>...</td>\n",
       "      <td>...</td>\n",
       "    </tr>\n",
       "    <tr>\n",
       "      <th>3328</th>\n",
       "      <td>77</td>\n",
       "      <td>False</td>\n",
       "      <td>-1.167749</td>\n",
       "    </tr>\n",
       "    <tr>\n",
       "      <th>3329</th>\n",
       "      <td>57</td>\n",
       "      <td>False</td>\n",
       "      <td>-2.164306</td>\n",
       "    </tr>\n",
       "    <tr>\n",
       "      <th>3330</th>\n",
       "      <td>109</td>\n",
       "      <td>False</td>\n",
       "      <td>0.426744</td>\n",
       "    </tr>\n",
       "    <tr>\n",
       "      <th>3331</th>\n",
       "      <td>105</td>\n",
       "      <td>False</td>\n",
       "      <td>0.227432</td>\n",
       "    </tr>\n",
       "    <tr>\n",
       "      <th>3332</th>\n",
       "      <td>113</td>\n",
       "      <td>False</td>\n",
       "      <td>0.626055</td>\n",
       "    </tr>\n",
       "  </tbody>\n",
       "</table>\n",
       "<p>3333 rows × 3 columns</p>\n",
       "</div>"
      ],
      "text/plain": [
       "      total day calls  churn         Z\n",
       "0                 110  False  0.476572\n",
       "1                 123  False  1.124334\n",
       "2                 114  False  0.675883\n",
       "3                  71  False -1.466716\n",
       "4                 113  False  0.626055\n",
       "...               ...    ...       ...\n",
       "3328               77  False -1.167749\n",
       "3329               57  False -2.164306\n",
       "3330              109  False  0.426744\n",
       "3331              105  False  0.227432\n",
       "3332              113  False  0.626055\n",
       "\n",
       "[3333 rows x 3 columns]"
      ]
     },
     "execution_count": 9,
     "metadata": {},
     "output_type": "execute_result"
    }
   ],
   "source": [
    "df"
   ]
  },
  {
   "cell_type": "code",
<<<<<<< HEAD
   "execution_count": 6,
=======
   "execution_count": 10,
>>>>>>> d5ff3ebc121fcb65150548654be8643de59bb2cb
   "metadata": {},
   "outputs": [],
   "source": [
    "from statsmodels.stats.weightstats import _zconfint_generic"
   ]
  },
  {
   "cell_type": "code",
<<<<<<< HEAD
   "execution_count": 63,
=======
   "execution_count": 17,
>>>>>>> d5ff3ebc121fcb65150548654be8643de59bb2cb
   "metadata": {},
   "outputs": [
    {
     "data": {
      "text/plain": [
<<<<<<< HEAD
       "(0       110.0\n",
       " 1       123.0\n",
       " 2       114.0\n",
       " 3        71.0\n",
       " 4       113.0\n",
       "         ...  \n",
       " 3328     77.0\n",
       " 3329     57.0\n",
       " 3330    109.0\n",
       " 3331    105.0\n",
       " 3332    113.0\n",
       " Name: total day calls, Length: 3333, dtype: float64,\n",
       " inf)"
      ]
     },
     "execution_count": 63,
=======
       "(0      -105.596038\n",
       " 1      -118.075570\n",
       " 2      -109.435894\n",
       " 3       -68.157443\n",
       " 4      -108.475930\n",
       "            ...    \n",
       " 3328    -73.917227\n",
       " 3329    -54.717947\n",
       " 3330   -104.636074\n",
       " 3331   -100.796218\n",
       " 3332   -108.475930\n",
       " Name: total day calls, Length: 3333, dtype: float64,\n",
       " 0       325.596038\n",
       " 1       364.075570\n",
       " 2       337.435894\n",
       " 3       210.157443\n",
       " 4       334.475930\n",
       "            ...    \n",
       " 3328    227.917227\n",
       " 3329    168.717947\n",
       " 3330    322.636074\n",
       " 3331    310.796218\n",
       " 3332    334.475930\n",
       " Name: total day calls, Length: 3333, dtype: float64)"
      ]
     },
     "execution_count": 17,
>>>>>>> d5ff3ebc121fcb65150548654be8643de59bb2cb
     "metadata": {},
     "output_type": "execute_result"
    }
   ],
   "source": [
<<<<<<< HEAD
    "_zconfint_generic(df['total day calls'], df['total day calls'].mean(), 0.5, 'larger')"
   ]
  },
  {
   "cell_type": "code",
   "execution_count": 61,
   "metadata": {},
   "outputs": [
    {
     "data": {
      "text/plain": [
       "100.43564356435644"
      ]
     },
     "execution_count": 61,
     "metadata": {},
     "output_type": "execute_result"
    }
   ],
   "source": [
    "df['total day calls'].mean()"
=======
    "_zconfint_generic(df['total day calls'], df['total day calls'], 0.05, 'two-sided')"
>>>>>>> d5ff3ebc121fcb65150548654be8643de59bb2cb
   ]
  },
  {
   "cell_type": "code",
   "execution_count": null,
   "metadata": {},
   "outputs": [],
   "source": []
  }
 ],
 "metadata": {
  "colab": {
   "collapsed_sections": [],
   "name": "Практика к занятию 12.ipynb",
   "provenance": []
  },
  "kernelspec": {
   "display_name": "Python 3 (ipykernel)",
   "language": "python",
   "name": "python3"
  },
  "language_info": {
   "codemirror_mode": {
    "name": "ipython",
    "version": 3
   },
   "file_extension": ".py",
   "mimetype": "text/x-python",
   "name": "python",
   "nbconvert_exporter": "python",
   "pygments_lexer": "ipython3",
   "version": "3.9.7"
  },
  "toc": {
   "base_numbering": 1,
   "nav_menu": {},
   "number_sections": true,
   "sideBar": true,
   "skip_h1_title": false,
   "title_cell": "Table of Contents",
   "title_sidebar": "Contents",
   "toc_cell": true,
   "toc_position": {},
   "toc_section_display": true,
   "toc_window_display": false
  }
 },
 "nbformat": 4,
 "nbformat_minor": 1
}
