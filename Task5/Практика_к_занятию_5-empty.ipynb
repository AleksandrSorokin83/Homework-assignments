{
 "cells": [
  {
   "cell_type": "markdown",
   "metadata": {
    "toc": true
   },
   "source": [
    "<h1>Table of Contents<span class=\"tocSkip\"></span></h1>\n",
    "<div class=\"toc\"><ul class=\"toc-item\"><li><span><a href=\"#Практика\" data-toc-modified-id=\"Практика-1\"><span class=\"toc-item-num\">1&nbsp;&nbsp;</span>Практика</a></span><ul class=\"toc-item\"><li><span><a href=\"#ЦПТ-для-различных-распределений\" data-toc-modified-id=\"ЦПТ-для-различных-распределений-1.1\"><span class=\"toc-item-num\">1.1&nbsp;&nbsp;</span>ЦПТ для различных распределений</a></span><ul class=\"toc-item\"><li><span><a href=\"#Сгенерируйте-примеры-из-распределения\" data-toc-modified-id=\"Сгенерируйте-примеры-из-распределения-1.1.1\"><span class=\"toc-item-num\">1.1.1&nbsp;&nbsp;</span>Сгенерируйте примеры из распределения</a></span></li><li><span><a href=\"#Постройте-гистограмму-выборки-и-теоретическую-плотность-распределения\" data-toc-modified-id=\"Постройте-гистограмму-выборки-и-теоретическую-плотность-распределения-1.1.2\"><span class=\"toc-item-num\">1.1.2&nbsp;&nbsp;</span>Постройте гистограмму выборки и теоретическую плотность распределения</a></span></li><li><span><a href=\"#Оценим-распределение-выборочного-среднего-для-разных-объёмов-выборок\" data-toc-modified-id=\"Оценим-распределение-выборочного-среднего-для-разных-объёмов-выборок-1.1.3\"><span class=\"toc-item-num\">1.1.3&nbsp;&nbsp;</span>Оценим распределение выборочного среднего для разных объёмов выборок</a></span></li></ul></li><li><span><a href=\"#Доверительный-интервал-на-основе-ЦПТ\" data-toc-modified-id=\"Доверительный-интервал-на-основе-ЦПТ-1.2\"><span class=\"toc-item-num\">1.2&nbsp;&nbsp;</span>Доверительный интервал на основе ЦПТ</a></span></li></ul></li></ul></div>"
   ]
  },
  {
   "cell_type": "markdown",
   "metadata": {
    "id": "pDrecLU-4QjS"
   },
   "source": [
    "# Практика"
   ]
  },
  {
   "cell_type": "code",
   "execution_count": 1,
   "metadata": {
    "id": "a6XFMuQUG6jO"
   },
   "outputs": [],
   "source": [
    "import pandas as pd\n",
    "import numpy as np\n",
    "import matplotlib.pyplot as plt\n",
    "import scipy.stats as sts\n",
    "import math\n",
    "%matplotlib inline"
   ]
  },
  {
   "cell_type": "markdown",
   "metadata": {
    "id": "5owLnS0MHJnz"
   },
   "source": [
    "## ЦПТ для различных распределений\n",
    "Возьмите то непрерывное распределение, которое вам больше всего понравится из списка доступных в модуле [scipy.stats](https://docs.scipy.org/doc/scipy/reference/stats.html)."
   ]
  },
  {
   "cell_type": "markdown",
   "metadata": {
    "id": "v1IvIGF9IRgH"
   },
   "source": [
    "### Сгенерируйте примеры из распределения"
   ]
  },
  {
   "cell_type": "code",
   "execution_count": 122,
   "metadata": {
    "colab": {
     "base_uri": "https://localhost:8080/",
     "height": 377
    },
    "id": "l4oTC1NSHvl7",
    "outputId": "52df1553-6d91-4452-9ade-e2a62a8d7ff2"
   },
   "outputs": [
    {
     "data": {
      "text/plain": [
       "array([1.18833225e-01, 9.98548883e-01, 9.66744635e-03, 8.79744742e-01,\n",
       "       2.52308796e-01, 8.22072058e-01, 6.65014794e-02, 2.16570843e-01,\n",
       "       2.36468259e-01, 9.82163373e-01, 9.09839191e-01, 3.59274660e-01,\n",
       "       1.40402728e-01, 1.01263995e-01, 9.99463862e-01, 9.97575557e-01,\n",
       "       8.56016138e-01, 9.99704402e-01, 5.66081442e-01, 7.98774144e-02,\n",
       "       6.18278051e-05, 8.55906137e-01, 6.07197634e-01, 1.41642468e-01,\n",
       "       5.26730211e-01, 3.19625234e-02, 7.98581207e-01, 9.77101752e-01,\n",
       "       8.14774009e-01, 8.34239909e-01, 1.76103872e-01, 3.44621423e-01,\n",
       "       7.34284659e-01, 2.01263363e-01, 4.14139277e-02, 9.14788408e-01,\n",
       "       9.35237634e-01, 4.30419982e-02, 7.13842654e-03, 8.04118350e-01,\n",
       "       2.05154143e-01, 5.75810963e-01, 8.51300442e-01, 6.91807274e-01,\n",
       "       7.09205271e-03, 1.02070987e-01, 6.84155591e-01, 1.51603946e-01,\n",
       "       6.62222457e-01, 4.18851382e-01, 9.79360943e-01, 7.30941983e-01,\n",
       "       4.85036984e-02, 4.34906380e-01, 5.69851181e-01, 9.99478792e-01,\n",
       "       8.15792497e-01, 9.68378848e-01, 1.24475848e-01, 9.96200527e-01,\n",
       "       8.89113179e-01, 1.56715183e-01, 1.47179886e-01, 1.90727285e-01,\n",
       "       7.51060778e-02, 9.49291609e-01, 9.49372989e-01, 5.91220837e-01,\n",
       "       4.54655428e-01, 8.99986965e-01, 9.99688790e-01, 1.67576443e-01,\n",
       "       2.24156695e-01, 7.30993054e-01, 7.88872198e-01, 4.81994523e-01,\n",
       "       8.55772692e-01, 3.95994439e-01, 9.44733360e-01, 1.98333482e-01,\n",
       "       2.83738927e-01, 1.23731296e-01, 5.67148190e-01, 3.60798133e-01,\n",
       "       1.18758063e-01, 3.78190832e-02, 9.99947119e-01, 1.37527266e-01,\n",
       "       9.99337097e-01, 9.83433688e-01, 3.56757713e-01, 9.99991404e-01,\n",
       "       5.25770821e-02, 1.09385603e-01, 5.26027475e-02, 5.47401222e-03,\n",
       "       1.57983033e-01, 5.32850754e-04, 9.98484140e-01, 1.74584957e-02])"
      ]
     },
     "execution_count": 122,
     "metadata": {},
     "output_type": "execute_result"
    }
   ],
   "source": [
    "# ваш код тут\n",
    "# например вот такое распределение https://docs.scipy.org/doc/scipy/reference/generated/scipy.stats.cosine.html#scipy.stats.cosine\n",
    "arcsine_rv = sts.arcsine()\n",
    "sample = arcsine_rv.rvs(100)\n",
    "sample"
   ]
  },
  {
   "cell_type": "code",
   "execution_count": 124,
   "metadata": {
    "colab": {
     "base_uri": "https://localhost:8080/",
     "height": 35
    },
    "id": "ScsjsI4oXgKR",
    "outputId": "86833794-f43b-436e-a0e4-c3b7483df016"
   },
   "outputs": [
    {
     "data": {
      "text/plain": [
       "dtype('float64')"
      ]
     },
     "execution_count": 124,
     "metadata": {},
     "output_type": "execute_result"
    }
   ],
   "source": [
    "sample.dtype"
   ]
  },
  {
   "cell_type": "code",
   "execution_count": 125,
   "metadata": {
    "id": "pXTNSqAOCYX4"
   },
   "outputs": [
    {
     "data": {
      "text/plain": [
       "0.5"
      ]
     },
     "execution_count": 125,
     "metadata": {},
     "output_type": "execute_result"
    }
   ],
   "source": [
    "real_mean = arcsine_rv.mean() # настоящее среднее случайной величины\n",
    "real_mean"
   ]
  },
  {
   "cell_type": "code",
   "execution_count": 126,
   "metadata": {
    "id": "5x4hFKaUCWSY"
   },
   "outputs": [
    {
     "data": {
      "text/plain": [
       "0.125"
      ]
     },
     "execution_count": 126,
     "metadata": {},
     "output_type": "execute_result"
    }
   ],
   "source": [
    "real_var = arcsine_rv.var() # настоящая дисперсия случайной величины\n",
    "real_var"
   ]
  },
  {
   "cell_type": "markdown",
   "metadata": {
    "id": "4bNn15giIX77"
   },
   "source": [
    "### Постройте гистограмму выборки и теоретическую плотность распределения"
   ]
  },
  {
   "cell_type": "code",
   "execution_count": 130,
   "metadata": {
    "colab": {
     "base_uri": "https://localhost:8080/",
     "height": 283
    },
    "id": "CwbvqecvIcXN",
    "outputId": "ace01d5d-2552-499b-bc4f-1eb19166af83"
   },
   "outputs": [
    {
     "data": {
      "text/plain": [
       "<matplotlib.legend.Legend at 0x268b834a340>"
      ]
     },
     "execution_count": 130,
     "metadata": {},
     "output_type": "execute_result"
    },
    {
     "data": {
      "image/png": "[encoded data removed]",
      "text/plain": [
       "<Figure size 432x288 with 1 Axes>"
      ]
     },
     "metadata": {
      "needs_background": "light"
     },
     "output_type": "display_data"
    }
   ],
   "source": [
    "# ваш код тут\n",
    "plt.hist(sample, density=True)\n",
    "x = np.linspace(-2,2,100)\n",
    "pdf = arcsine_rv.pdf(x)\n",
    "plt.plot(x, pdf, label='теоретическая плотность', alpha=0.5)\n",
    "plt.legend()"
   ]
  },
  {
   "cell_type": "code",
   "execution_count": 113,
   "metadata": {
    "colab": {
     "base_uri": "https://localhost:8080/",
     "height": 51
    },
    "id": "rKd5XFelBqe7",
    "outputId": "32773b82-a3e9-46a2-b06d-a94d667d4f66"
   },
   "outputs": [
    {
     "name": "stdout",
     "output_type": "stream",
     "text": [
      "0.49440407849802953\n",
      "0.13070009837614655\n"
     ]
    }
   ],
   "source": [
    "sample_mean = sample.mean() # выборочное среднее\n",
    "print(sample_mean)\n",
    "sample_var = sample.var() # выборочная дисперсия\n",
    "print(sample_var)"
   ]
  },
  {
   "cell_type": "markdown",
   "metadata": {
    "id": "qPuHR68NId_Z"
   },
   "source": [
    "### Оценим распределение выборочного среднего для разных объёмов выборок\n",
    "Для этого постройте на одном полотне гистограмму выборочных средних и теоретическое распределение выборочных средних по ЦПТ для разных объёмов выборок.\n",
    "\n",
    "Для теоретического распределение используйте настоящие значения мат ожидания и дисперсии (не приближенные на основе выборки)."
   ]
  },
  {
   "cell_type": "code",
   "execution_count": 116,
   "metadata": {},
   "outputs": [
    {
     "data": {
      "text/plain": [
       "[]"
      ]
     },
     "execution_count": 116,
     "metadata": {},
     "output_type": "execute_result"
    },
    {
     "data": {
      "image/png": "[encoded data removed]",
      "text/plain": [
       "<Figure size 432x288 with 1 Axes>"
      ]
     },
     "metadata": {
      "needs_background": "light"
     },
     "output_type": "display_data"
    }
   ],
   "source": [
    "arcsine_rv = sts.arcsine(loc=uniform_rv.mean(), scale=uniform_rv.std() / np.sqrt(N))\n",
    "plt.hist(means, density=True, bins=40)\n",
    "x = np.linspace(1,4, 100)\n",
    "pdf = arcsine_rv.pdf(x)\n",
    "plt.plot(x, pdf, label='Теоретическая плотность', alpha=0.5)\n",
    "plt.legend()\n",
    "plt.plot()"
   ]
  },
  {
   "cell_type": "markdown",
   "metadata": {
    "id": "TF1onBy_J7sX"
   },
   "source": [
    "Как вы считаете, для выбранного распределения апроксимация распределения выборочного среднего работает хорошо или плохо?\n",
    "**Ваш ответ:**"
   ]
  },
  {
   "cell_type": "code",
   "execution_count": null,
   "metadata": {
    "id": "1BEsK495KIuM"
   },
   "outputs": [],
   "source": []
  },
  {
   "cell_type": "markdown",
   "metadata": {
    "id": "xEyWxfjSfxGp"
   },
   "source": [
    "## Доверительный интервал на основе ЦПТ\n",
    "Возьмите данные для оттока телеком компании, и постройте доверительные интервалы для среднего значения total day calls, используя центральную предельную теорему в разбиении по колонке churn (ушел/не ушел). \n",
    "\n",
    "Для оценки дисперсии используйте несмещенную оценку (параметр ddof=1).\n",
    "\n",
    "Сделайте оценку с использованием явной формулы для z интервала, а затем с помощью функций \n",
    "`from statsmodels.stats.weightstats import _zconfint_generic`. Сравните результаты.\n",
    "\n",
    "\n",
    "Ссылка на данные: https://drive.google.com/file/d/1X_drKqoarnU2Sz2har7uSCsgyhh8Xtz8/view?usp=sharing"
   ]
  },
  {
   "cell_type": "code",
   "execution_count": null,
   "metadata": {
    "id": "56V0za8GfxeL"
   },
   "outputs": [],
   "source": []
  }
 ],
 "metadata": {
  "colab": {
   "collapsed_sections": [],
   "name": "Практика к занятию 12.ipynb",
   "provenance": []
  },
  "kernelspec": {
   "display_name": "Python 3",
   "language": "python",
   "name": "python3"
  },
  "language_info": {
   "codemirror_mode": {
    "name": "ipython",
    "version": 3
   },
   "file_extension": ".py",
   "mimetype": "text/x-python",
   "name": "python",
   "nbconvert_exporter": "python",
   "pygments_lexer": "ipython3",
   "version": "3.8.8"
  },
  "toc": {
   "base_numbering": 1,
   "nav_menu": {},
   "number_sections": true,
   "sideBar": true,
   "skip_h1_title": false,
   "title_cell": "Table of Contents",
   "title_sidebar": "Contents",
   "toc_cell": true,
   "toc_position": {},
   "toc_section_display": true,
   "toc_window_display": false
  }
 },
 "nbformat": 4,
 "nbformat_minor": 1
}
