{
 "cells": [
  {
   "cell_type": "markdown",
   "metadata": {
    "toc": true
   },
   "source": [
    "<h1>Table of Contents<span class=\"tocSkip\"></span></h1>\n",
    "<div class=\"toc\"><ul class=\"toc-item\"></ul></div>"
   ]
  },
  {
   "cell_type": "code",
   "execution_count": 1,
   "metadata": {},
   "outputs": [],
   "source": [
    "from sklearn.datasets import load_boston\n",
    "import pandas as pd\n",
    "import numpy as np"
   ]
  },
  {
   "cell_type": "code",
   "execution_count": 2,
   "metadata": {},
   "outputs": [],
   "source": [
    "RANDOM_STATE = 42"
   ]
  },
  {
   "cell_type": "code",
   "execution_count": 3,
   "metadata": {},
   "outputs": [],
   "source": [
    "dataset = load_boston()\n",
    "X = pd.DataFrame(dataset.data)\n",
    "X.columns = dataset.feature_names\n",
    "y = dataset.target"
   ]
  },
  {
   "cell_type": "code",
   "execution_count": 4,
   "metadata": {},
   "outputs": [
    {
     "name": "stdout",
     "output_type": "stream",
     "text": [
      "X - (506, 13)\n",
      "y - (506,)\n"
     ]
    }
   ],
   "source": [
    "print(f'X - {X.shape}\\n'\\\n",
    "      f'y - {y.shape}')"
   ]
  },
  {
   "cell_type": "markdown",
   "metadata": {},
   "source": [
    "1. Разделите выборку на обучающую и тестовую в отношении 80%/20%"
   ]
  },
  {
   "cell_type": "code",
   "execution_count": 5,
   "metadata": {},
   "outputs": [
    {
     "name": "stdout",
     "output_type": "stream",
     "text": [
      "X_train - (404, 13)\n",
      "y_train - (404,)\n",
      "X_test - (102, 13)\n",
      "y_test - (102,)\n"
     ]
    }
   ],
   "source": [
    "from sklearn.model_selection import train_test_split\n",
    "\n",
    "RANDOM_STATE = 42\n",
    "X_train, X_test, y_train, y_test = train_test_split(X, y, test_size=0.2, random_state=RANDOM_STATE)\n",
    "print(f'X_train - {X_train.shape}\\n'\\\n",
    "      f'y_train - {y_train.shape}\\n'\\\n",
    "      f'X_test - {X_test.shape}\\n'\\\n",
    "      f'y_test - {y_test.shape}')"
   ]
  },
  {
   "cell_type": "markdown",
   "metadata": {},
   "source": [
    "2. Обучите стандартную регрессию, а также Ridge и  Lasso и параметрами по умолчанию и выведите их R2 на тестовой выборке"
   ]
  },
  {
   "cell_type": "markdown",
   "metadata": {},
   "source": [
    "https://scikit-learn.org/stable/modules/generated/sklearn.linear_model.LinearRegression.html\n",
    "\n",
    "https://scikit-learn.org/stable/modules/generated/sklearn.linear_model.Ridge.html\n",
    "\n",
    "https://scikit-learn.org/stable/modules/generated/sklearn.linear_model.Lasso.html\n",
    "\n",
    "https://scikit-learn.org/stable/modules/generated/sklearn.metrics.r2_score.html"
   ]
  },
  {
   "cell_type": "code",
   "execution_count": 6,
   "metadata": {},
   "outputs": [],
   "source": [
    "from sklearn.linear_model import LinearRegression, Ridge, Lasso\n",
    "from sklearn.metrics import mean_squared_error, r2_score"
   ]
  },
  {
   "cell_type": "code",
   "execution_count": 76,
   "metadata": {},
   "outputs": [
    {
     "name": "stdout",
     "output_type": "stream",
     "text": [
      "LinearRegression()\n",
      "r2 (test) - 0.6687594935356329\n"
     ]
    }
   ],
   "source": [
    "reg = LinearRegression().fit(X_train, y_train)\n",
    "y_reg_test = reg.predict(X_test)\n",
    "print(f'LinearRegression()\\n'\\\n",
    "      f'r2 (test) - {r2_score(y_test, y_reg_test)}')"
   ]
  },
  {
   "cell_type": "code",
   "execution_count": 77,
   "metadata": {},
   "outputs": [
    {
     "name": "stdout",
     "output_type": "stream",
     "text": [
      "Ridge()\n",
      "r2 (test) - 0.6662221670168521\n"
     ]
    }
   ],
   "source": [
    "reg = Ridge().fit(X_train, y_train)\n",
    "y_reg_test = reg.predict(X_test)\n",
    "print(f'Ridge()\\n'\\\n",
    "      f'r2 (test) - {r2_score(y_test, y_reg_test)}')"
   ]
  },
  {
   "cell_type": "code",
   "execution_count": 78,
   "metadata": {},
   "outputs": [
    {
     "name": "stdout",
     "output_type": "stream",
     "text": [
      "Lasso()\n",
      "r2 (test) - 0.6671453631686304\n"
     ]
    }
   ],
   "source": [
    "reg = Lasso().fit(X_train, y_train)\n",
    "y_reg_test = reg.predict(X_test)\n",
    "print(f'Lasso()\\n'\\\n",
    "      f'r2 (test) - {r2_score(y_test, y_reg_test)}')"
   ]
  },
  {
   "cell_type": "code",
   "execution_count": 79,
   "metadata": {},
   "outputs": [],
   "source": [
    "def get_r2_score(model, X, y):\n",
    "    \n",
    "    X_train, X_test, y_train, y_test = train_test_split(X, y, test_size=.2, random_state=RANDOM_STATE)\n",
    "    \n",
    "    model.fit(X_train, y_train)\n",
    "    \n",
    "    y_pred_train = model.predict(X_train)\n",
    "    r2_train = r2_score(y_train, y_pred_train)\n",
    "    \n",
    "    y_pred_test = model.predict(X_test)\n",
    "    r2_test = r2_score(y_test, y_pred_test)\n",
    "    \n",
    "    return r2_train, r2_test"
   ]
  },
  {
   "cell_type": "code",
   "execution_count": 80,
   "metadata": {},
   "outputs": [
    {
     "name": "stdout",
     "output_type": "stream",
     "text": [
      "LinearRegression\n",
      "r2 (test) - 0.669\n",
      "\n",
      "Ridge\n",
      "r2 (test) - 0.666\n",
      "\n",
      "Lasso\n",
      "r2 (test) - 0.667\n",
      "\n"
     ]
    }
   ],
   "source": [
    "models = [\n",
    "    {'name':'LinearRegression', 'model':LinearRegression()}, \n",
    "    {'name':'Ridge', 'model':Ridge()}, \n",
    "    {'name':'Lasso', 'model':Lasso()}\n",
    "]\n",
    "\n",
    "for model in models:\n",
    "    model_name = model['name']\n",
    "    model = model['model']\n",
    "    r2_score_train, r2_score_test = get_r2_score(model, X, y)\n",
    "    print(f'{model_name}\\n'\\\n",
    "          #f'r2 (train) - {r2_score_train}\\n'\\\n",
    "          f'r2 (test) - {r2_score_test:.3f}\\n')"
   ]
  },
  {
   "cell_type": "markdown",
   "metadata": {},
   "source": [
    "3. Для Ridge и Lasso подберите коэффициент регуляризации(используйте GridSearchCV, RidgeCV, LassoCV) в пределах от $10^{-5}$ до $10^5$ (по степеням 10). Посчитайте R2 на тестовой выборке по лучшим моделям и сравните с предыдущими результатами. Напишите как изменился результат"
   ]
  },
  {
   "cell_type": "markdown",
   "metadata": {},
   "source": [
    "https://scikit-learn.org/stable/modules/generated/sklearn.model_selection.GridSearchCV.html\n",
    "\n",
    "https://scikit-learn.org/stable/modules/generated/sklearn.linear_model.RidgeCV.html\n",
    "\n",
    "https://scikit-learn.org/stable/modules/generated/sklearn.linear_model.LassoCV.html"
   ]
  },
  {
   "cell_type": "code",
   "execution_count": 7,
   "metadata": {},
   "outputs": [],
   "source": [
    "from sklearn.model_selection import cross_val_score\n",
    "from sklearn.model_selection import GridSearchCV\n",
    "from sklearn.linear_model import RidgeCV, LassoCV"
   ]
  },
  {
   "cell_type": "code",
   "execution_count": 14,
   "metadata": {},
   "outputs": [],
   "source": [
    "alphas = [1e-5, 1e-4, 1e-3, 1e-2, 1e-1, 1, 1e+1, 1e+2, 1e+3, 1e+4, 1e+5]"
   ]
  },
  {
   "cell_type": "code",
   "execution_count": 35,
   "metadata": {},
   "outputs": [],
   "source": [
    "def get_search_cv(model, X, y, grid_search, alphas=alphas, scoring='r2'):\n",
    "    \n",
    "    X_train, X_test, y_train, y_test = train_test_split(X, y, test_size=.2, random_state=RANDOM_STATE)\n",
    "    \n",
    "    if grid_search:\n",
    "        params = [{'alpha': alphas}]\n",
    "        search = GridSearchCV(model(), params, scoring=scoring).fit(X_train, y_train)\n",
    "        best_alpha = search.best_params_['alpha']\n",
    "    else:\n",
    "        search = model(alphas=alphas).fit(X_train, y_train)\n",
    "        best_alpha = search.alpha_\n",
    "        \n",
    "    score_train = search.score(X_train, y_train)\n",
    "    score_test = search.score(X_test, y_test)\n",
    "    \n",
    "    return score_train, score_test, best_alpha"
   ]
  },
  {
   "cell_type": "code",
   "execution_count": 36,
   "metadata": {},
   "outputs": [
    {
     "name": "stdout",
     "output_type": "stream",
     "text": [
      "Ridge\n",
      "r2 (test) - 0.668759\n",
      "best alpha - 1e-05\n",
      "\n",
      "RidgeCV\n",
      "r2 (test) - 0.668751\n",
      "best alpha - 0.01\n",
      "\n",
      "Lasso\n",
      "r2 (test) - 0.668760\n",
      "best alpha - 1e-05\n",
      "\n",
      "LassoCV\n",
      "r2 (test) - 0.668760\n",
      "best alpha - 1e-05\n",
      "\n"
     ]
    }
   ],
   "source": [
    "models = [\n",
    "    {'name':'Ridge', 'clf':Ridge, 'grid_search':True}, \n",
    "    {'name':'RidgeCV', 'clf':RidgeCV, 'grid_search':False},\n",
    "    {'name':'Lasso', 'clf':Lasso, 'grid_search':True},\n",
    "    {'name':'LassoCV', 'clf':LassoCV, 'grid_search':False}\n",
    "]\n",
    "\n",
    "for model in models:\n",
    "    model_name = model['name']\n",
    "    clf = model['clf']\n",
    "    grid_search = model['grid_search']\n",
    "    \n",
    "    r2_score_train, r2_score_test, best_alpha = get_search_cv(clf, X, y, grid_search)\n",
    "    \n",
    "    print(f'{model_name}\\n'\\\n",
    "          #f'r2 (train) - {r2_score_train}\\n'\\\n",
    "          f'r2 (test) - {r2_score_test:.6f}\\n'\\\n",
    "          f'best alpha - {best_alpha}\\n')"
   ]
  },
  {
   "cell_type": "markdown",
   "metadata": {},
   "source": [
    "Результат незначительно улучшился. RidgeCV и GridSearchCV(Ridge) выявили разные лучшие коэффициенты регуляризации."
   ]
  },
  {
   "cell_type": "markdown",
   "metadata": {},
   "source": [
    "4. Проведите масштабирование выборки(используйте Pipeline, StandardScaler, MinMaxScaler), посчитайте R2 и сравните с предыдущими результатами. Напишите как изменился результат"
   ]
  },
  {
   "cell_type": "markdown",
   "metadata": {},
   "source": [
    "https://scikit-learn.org/stable/modules/generated/sklearn.pipeline.Pipeline.html\n",
    "\n",
    "https://scikit-learn.org/stable/modules/generated/sklearn.preprocessing.StandardScaler.html\n",
    "\n",
    "https://scikit-learn.org/stable/modules/generated/sklearn.preprocessing.MinMaxScaler.html"
   ]
  },
  {
   "cell_type": "code",
   "execution_count": 8,
   "metadata": {},
   "outputs": [],
   "source": [
    "from sklearn.preprocessing import StandardScaler\n",
    "from sklearn.preprocessing import MinMaxScaler\n",
    "from sklearn.pipeline import Pipeline"
   ]
  },
  {
   "cell_type": "code",
   "execution_count": 18,
   "metadata": {},
   "outputs": [
    {
     "name": "stdout",
     "output_type": "stream",
     "text": [
      "Ridge after StandardScaler\n",
      "0.6684624359643561\n",
      "\n",
      "Ridge after MinMaxScaler\n",
      "0.6764100365423595\n",
      "\n",
      "Lasso after StandardScaler\n",
      "0.6239428734251422\n",
      "\n",
      "Lasso after MinMaxScaler\n",
      "0.2573921442545194\n",
      "\n"
     ]
    }
   ],
   "source": [
    "models = [\n",
    "    {'name':'Ridge after StandardScaler', 'clf':Ridge(), 'scaler':StandardScaler()},\n",
    "    {'name':'Ridge after MinMaxScaler', 'clf':Ridge(), 'scaler':MinMaxScaler()},\n",
    "    {'name':'Lasso after StandardScaler', 'clf':Lasso(), 'scaler':StandardScaler()},\n",
    "    {'name':'Lasso after MinMaxScaler', 'clf':Lasso(), 'scaler':MinMaxScaler()}\n",
    "]\n",
    "\n",
    "\n",
    "for model in models:\n",
    "    model_name = model['name']\n",
    "    clf = model['clf']\n",
    "    scaler = model['scaler']\n",
    "    \n",
    "    pipe = Pipeline(steps=[('scaler', scaler), ('clf', clf)]).fit(X_train, y_train)\n",
    "    score = pipe.score(X_test, y_test)\n",
    "    \n",
    "    print(f'{model_name}\\n'\\\n",
    "          f'{score}\\n')"
   ]
  },
  {
   "cell_type": "markdown",
   "metadata": {},
   "source": [
    "Лучший результат у Ridge with MinMaxScaler. Lasso with StandardScaler ухудшился. Lasso with MinMaxScaler сильно ухудшился."
   ]
  },
  {
   "cell_type": "markdown",
   "metadata": {},
   "source": [
    "5. Подберите коэффициент регуляризации для Ridge и Lasso на масштабированных данных, посчитайте R2 и сравните с предыдущими результатами. Напишите как изменился результат"
   ]
  },
  {
   "cell_type": "code",
   "execution_count": 42,
   "metadata": {},
   "outputs": [
    {
     "name": "stdout",
     "output_type": "stream",
     "text": [
      "best model - Ridge after MinMaxScaler\n",
      "score - 0.6764100365423595\n",
      "alpha - 1\n"
     ]
    }
   ],
   "source": [
    "models = [\n",
    "    {'name':'Ridge after StandardScaler', 'clf':Ridge, 'scaler':StandardScaler()},\n",
    "    {'name':'Ridge after MinMaxScaler', 'clf':Ridge, 'scaler':MinMaxScaler()},\n",
    "    {'name':'Lasso after StandardScaler', 'clf':Lasso, 'scaler':StandardScaler()},\n",
    "    {'name':'Lasso after MinMaxScaler', 'clf':Lasso, 'scaler':MinMaxScaler()}\n",
    "]\n",
    "\n",
    "best_model = {}\n",
    "\n",
    "for model in models:\n",
    "    \n",
    "    model_name = model['name']\n",
    "    clf = model['clf']\n",
    "    scaler = model['scaler']\n",
    "    \n",
    "    for alpha in alphas:\n",
    "    \n",
    "        pipe = Pipeline(steps=[('scaler', scaler), ('clf', clf(alpha=alpha))]).fit(X_train, y_train)\n",
    "        score = pipe.score(X_test, y_test)\n",
    "        \n",
    "        if len(best_model) == 0 or score > best_model['score']:\n",
    "            best_model['name'] = model_name\n",
    "            best_model['score'] = score\n",
    "            best_model['alpha'] = alpha\n",
    "    \n",
    "print(f'best model - {best_model[\"name\"]}\\n'\\\n",
    "      f'score - {best_model[\"score\"]}\\n'\\\n",
    "      f'alpha - {best_model[\"alpha\"]}')"
   ]
  },
  {
   "cell_type": "markdown",
   "metadata": {},
   "source": [
    "Лучший результат остался преждним, т.к. в Ridge(alpha = 1) по умолчанию."
   ]
  },
  {
   "cell_type": "markdown",
   "metadata": {},
   "source": [
    "6. Добавьте попарные произведения признаков и их квадраты (используйте PolynomialFeatures) на масштабированных признаках, посчитайте R2 и сравните с предыдущими результатами. Напишите как изменился результат"
   ]
  },
  {
   "cell_type": "markdown",
   "metadata": {},
   "source": [
    "https://scikit-learn.org/stable/modules/generated/sklearn.preprocessing.PolynomialFeatures.html"
   ]
  },
  {
   "cell_type": "code",
   "execution_count": 9,
   "metadata": {},
   "outputs": [],
   "source": [
    "from sklearn.preprocessing import PolynomialFeatures"
   ]
  },
  {
   "cell_type": "code",
   "execution_count": 45,
   "metadata": {},
   "outputs": [
    {
     "name": "stdout",
     "output_type": "stream",
     "text": [
      "best model - Ridge after StandardScaler\n",
      "score - 0.8479002860071861\n",
      "poly - PolynomialFeatures(interaction_only=True)\n",
      "Wall time: 160 ms\n",
      "Compiler : 170 ms\n"
     ]
    }
   ],
   "source": [
    "%%time\n",
    "\n",
    "models = [\n",
    "    {'name':'Ridge after StandardScaler', 'clf':Ridge, 'scaler':StandardScaler(), 'poly':PolynomialFeatures(2)},\n",
    "    {'name':'Ridge after MinMaxScaler', 'clf':Ridge, 'scaler':MinMaxScaler(),'poly':PolynomialFeatures(2)},\n",
    "    {'name':'Ridge after StandardScaler', 'clf':Ridge, 'scaler':StandardScaler(), 'poly':PolynomialFeatures(interaction_only=True)},\n",
    "    {'name':'Ridge after MinMaxScaler', 'clf':Ridge, 'scaler':MinMaxScaler(),'poly':PolynomialFeatures(interaction_only=True)},\n",
    "    \n",
    "    {'name':'Lasso after StandardScaler', 'clf':Lasso, 'scaler':StandardScaler(), 'poly':PolynomialFeatures(2)},\n",
    "    {'name':'Lasso after MinMaxScaler', 'clf':Lasso, 'scaler':MinMaxScaler(), 'poly':PolynomialFeatures(2)},\n",
    "    {'name':'Lasso after StandardScaler', 'clf':Lasso, 'scaler':StandardScaler(), 'poly':PolynomialFeatures(interaction_only=True)},\n",
    "    {'name':'Lasso after MinMaxScaler', 'clf':Lasso, 'scaler':MinMaxScaler(), 'poly':PolynomialFeatures(interaction_only=True)}\n",
    "]\n",
    "\n",
    "best_model = {}\n",
    "\n",
    "for model in models:\n",
    "    \n",
    "    model_name = model['name']\n",
    "    clf = model['clf']\n",
    "    scaler = model['scaler']\n",
    "    poly = model['poly']\n",
    "    \n",
    "    pipe = Pipeline(steps=[('scaler', scaler), ('poly', poly), ('clf', clf())]).fit(X_train, y_train)\n",
    "    score = pipe.score(X_test, y_test)\n",
    "    \n",
    "    if len(best_model) == 0 or score > best_model['score']:\n",
    "        best_model['name'] = model_name\n",
    "        best_model['score'] = score\n",
    "        best_model['poly'] = poly\n",
    "    \n",
    "print(f'best model - {best_model[\"name\"]}\\n'\\\n",
    "      f'score - {best_model[\"score\"]}\\n'\\\n",
    "      f'poly - {best_model[\"poly\"]}')"
   ]
  },
  {
   "cell_type": "markdown",
   "metadata": {},
   "source": [
    "R2 лучшей модели значительно улучшился."
   ]
  },
  {
   "cell_type": "markdown",
   "metadata": {},
   "source": [
    "7. Подберите наилучшую модель (используйте Pipeline, GridSearchSCV) подбирая тип регуляризации (L1,L2), коэффициент регуляризации, метод масштабирования и степень полинома в PolynomialFeatures. Выведите итоговые параметры и результат R2. Напишите как изменился R2 по сравнению с предыдущими экспериментами"
   ]
  },
  {
   "cell_type": "code",
   "execution_count": 10,
   "metadata": {},
   "outputs": [],
   "source": [
    "import warnings\n",
    "warnings.filterwarnings('ignore')"
   ]
  },
  {
   "cell_type": "code",
   "execution_count": 51,
   "metadata": {},
   "outputs": [
    {
     "name": "stdout",
     "output_type": "stream",
     "text": [
      "best model - Ridge(alpha=10.0)\n",
      "score - 0.8496468217328312\n",
      "scaler - StandardScaler()\n",
      "poly - PolynomialFeatures(interaction_only=True)\n",
      "Wall time: 32.8 s\n"
     ]
    }
   ],
   "source": [
    "%%time\n",
    "\n",
    "pipe = Pipeline(steps=[\n",
    "    ('scaler', 'passthrough'),\n",
    "    ('poly', 'passthrough'),\n",
    "    ('clf', 'passthrough')\n",
    "])\n",
    "\n",
    "params = [{\n",
    "    'scaler': [None, StandardScaler(), MinMaxScaler()],\n",
    "    'poly': [None, PolynomialFeatures(2), PolynomialFeatures(interaction_only=True)],\n",
    "    'clf': [Ridge(), Lasso()],\n",
    "    'clf__alpha': alphas\n",
    "}]\n",
    "\n",
    "search = GridSearchCV(pipe, params, scoring='r2').fit(X_train, y_train)\n",
    "\n",
    "score = search.score(X_test, y_test)\n",
    "\n",
    "print(f'best model - {search.best_params_[\"clf\"]}\\n'\\\n",
    "      f'score - {score}\\n'\\\n",
    "      f'scaler - {search.best_params_[\"scaler\"]}\\n'\\\n",
    "      f'poly - {search.best_params_[\"poly\"]}')"
   ]
  },
  {
   "cell_type": "markdown",
   "metadata": {},
   "source": [
    "Результат незначительно улучшился, от предыдущего результата итоговая модель отличается только alpha=10. По времени гораздо более затратный."
   ]
  },
  {
   "cell_type": "markdown",
   "metadata": {},
   "source": [
    "http://archive.ics.uci.edu/ml/datasets/Adult"
   ]
  },
  {
   "cell_type": "code",
   "execution_count": 11,
   "metadata": {},
   "outputs": [],
   "source": [
    "link = 'https://raw.githubusercontent.com/jbrownlee/Datasets/master/adult-all.csv'\n",
    "data = pd.read_csv(link, header=None)"
   ]
  },
  {
   "cell_type": "code",
   "execution_count": 16,
   "metadata": {},
   "outputs": [
    {
     "data": {
      "text/html": [
       "<div>\n",
       "<style scoped>\n",
       "    .dataframe tbody tr th:only-of-type {\n",
       "        vertical-align: middle;\n",
       "    }\n",
       "\n",
       "    .dataframe tbody tr th {\n",
       "        vertical-align: top;\n",
       "    }\n",
       "\n",
       "    .dataframe thead th {\n",
       "        text-align: right;\n",
       "    }\n",
       "</style>\n",
       "<table border=\"1\" class=\"dataframe\">\n",
       "  <thead>\n",
       "    <tr style=\"text-align: right;\">\n",
       "      <th></th>\n",
       "      <th>0</th>\n",
       "      <th>1</th>\n",
       "      <th>2</th>\n",
       "      <th>3</th>\n",
       "      <th>4</th>\n",
       "      <th>5</th>\n",
       "      <th>6</th>\n",
       "      <th>7</th>\n",
       "      <th>8</th>\n",
       "      <th>9</th>\n",
       "      <th>10</th>\n",
       "      <th>11</th>\n",
       "      <th>12</th>\n",
       "      <th>13</th>\n",
       "      <th>14</th>\n",
       "    </tr>\n",
       "  </thead>\n",
       "  <tbody>\n",
       "    <tr>\n",
       "      <th>0</th>\n",
       "      <td>39</td>\n",
       "      <td>State-gov</td>\n",
       "      <td>77516</td>\n",
       "      <td>Bachelors</td>\n",
       "      <td>13</td>\n",
       "      <td>Never-married</td>\n",
       "      <td>Adm-clerical</td>\n",
       "      <td>Not-in-family</td>\n",
       "      <td>White</td>\n",
       "      <td>Male</td>\n",
       "      <td>2174</td>\n",
       "      <td>0</td>\n",
       "      <td>40</td>\n",
       "      <td>United-States</td>\n",
       "      <td>&lt;=50K</td>\n",
       "    </tr>\n",
       "    <tr>\n",
       "      <th>1</th>\n",
       "      <td>50</td>\n",
       "      <td>Self-emp-not-inc</td>\n",
       "      <td>83311</td>\n",
       "      <td>Bachelors</td>\n",
       "      <td>13</td>\n",
       "      <td>Married-civ-spouse</td>\n",
       "      <td>Exec-managerial</td>\n",
       "      <td>Husband</td>\n",
       "      <td>White</td>\n",
       "      <td>Male</td>\n",
       "      <td>0</td>\n",
       "      <td>0</td>\n",
       "      <td>13</td>\n",
       "      <td>United-States</td>\n",
       "      <td>&lt;=50K</td>\n",
       "    </tr>\n",
       "    <tr>\n",
       "      <th>2</th>\n",
       "      <td>38</td>\n",
       "      <td>Private</td>\n",
       "      <td>215646</td>\n",
       "      <td>HS-grad</td>\n",
       "      <td>9</td>\n",
       "      <td>Divorced</td>\n",
       "      <td>Handlers-cleaners</td>\n",
       "      <td>Not-in-family</td>\n",
       "      <td>White</td>\n",
       "      <td>Male</td>\n",
       "      <td>0</td>\n",
       "      <td>0</td>\n",
       "      <td>40</td>\n",
       "      <td>United-States</td>\n",
       "      <td>&lt;=50K</td>\n",
       "    </tr>\n",
       "    <tr>\n",
       "      <th>3</th>\n",
       "      <td>53</td>\n",
       "      <td>Private</td>\n",
       "      <td>234721</td>\n",
       "      <td>11th</td>\n",
       "      <td>7</td>\n",
       "      <td>Married-civ-spouse</td>\n",
       "      <td>Handlers-cleaners</td>\n",
       "      <td>Husband</td>\n",
       "      <td>Black</td>\n",
       "      <td>Male</td>\n",
       "      <td>0</td>\n",
       "      <td>0</td>\n",
       "      <td>40</td>\n",
       "      <td>United-States</td>\n",
       "      <td>&lt;=50K</td>\n",
       "    </tr>\n",
       "    <tr>\n",
       "      <th>4</th>\n",
       "      <td>28</td>\n",
       "      <td>Private</td>\n",
       "      <td>338409</td>\n",
       "      <td>Bachelors</td>\n",
       "      <td>13</td>\n",
       "      <td>Married-civ-spouse</td>\n",
       "      <td>Prof-specialty</td>\n",
       "      <td>Wife</td>\n",
       "      <td>Black</td>\n",
       "      <td>Female</td>\n",
       "      <td>0</td>\n",
       "      <td>0</td>\n",
       "      <td>40</td>\n",
       "      <td>Cuba</td>\n",
       "      <td>&lt;=50K</td>\n",
       "    </tr>\n",
       "  </tbody>\n",
       "</table>\n",
       "</div>"
      ],
      "text/plain": [
       "   0                 1       2          3   4                   5   \\\n",
       "0  39         State-gov   77516  Bachelors  13       Never-married   \n",
       "1  50  Self-emp-not-inc   83311  Bachelors  13  Married-civ-spouse   \n",
       "2  38           Private  215646    HS-grad   9            Divorced   \n",
       "3  53           Private  234721       11th   7  Married-civ-spouse   \n",
       "4  28           Private  338409  Bachelors  13  Married-civ-spouse   \n",
       "\n",
       "                  6              7      8       9     10  11  12  \\\n",
       "0       Adm-clerical  Not-in-family  White    Male  2174   0  40   \n",
       "1    Exec-managerial        Husband  White    Male     0   0  13   \n",
       "2  Handlers-cleaners  Not-in-family  White    Male     0   0  40   \n",
       "3  Handlers-cleaners        Husband  Black    Male     0   0  40   \n",
       "4     Prof-specialty           Wife  Black  Female     0   0  40   \n",
       "\n",
       "              13     14  \n",
       "0  United-States  <=50K  \n",
       "1  United-States  <=50K  \n",
       "2  United-States  <=50K  \n",
       "3  United-States  <=50K  \n",
       "4           Cuba  <=50K  "
      ]
     },
     "execution_count": 16,
     "metadata": {},
     "output_type": "execute_result"
    }
   ],
   "source": [
    "data.head()"
   ]
  },
  {
   "cell_type": "markdown",
   "metadata": {},
   "source": [
    "8. Разделите выборку на признаки и целевую переменную(колонка со зачениями {<=50K,>50K}). Замените целевую переменную на числовые значения."
   ]
  },
  {
   "cell_type": "code",
   "execution_count": 44,
   "metadata": {},
   "outputs": [],
   "source": [
    "from sklearn import preprocessing"
   ]
  },
  {
   "cell_type": "code",
   "execution_count": 54,
   "metadata": {},
   "outputs": [
    {
     "data": {
      "text/plain": [
       "(       0                 1       2          3   4                   5   \\\n",
       " 0      39         State-gov   77516  Bachelors  13       Never-married   \n",
       " 1      50  Self-emp-not-inc   83311  Bachelors  13  Married-civ-spouse   \n",
       " 2      38           Private  215646    HS-grad   9            Divorced   \n",
       " 3      53           Private  234721       11th   7  Married-civ-spouse   \n",
       " 4      28           Private  338409  Bachelors  13  Married-civ-spouse   \n",
       " ...    ..               ...     ...        ...  ..                 ...   \n",
       " 48837  39           Private  215419  Bachelors  13            Divorced   \n",
       " 48838  64                 ?  321403    HS-grad   9             Widowed   \n",
       " 48839  38           Private  374983  Bachelors  13  Married-civ-spouse   \n",
       " 48840  44           Private   83891  Bachelors  13            Divorced   \n",
       " 48841  35      Self-emp-inc  182148  Bachelors  13  Married-civ-spouse   \n",
       " \n",
       "                       6               7                   8       9     10  \\\n",
       " 0           Adm-clerical   Not-in-family               White    Male  2174   \n",
       " 1        Exec-managerial         Husband               White    Male     0   \n",
       " 2      Handlers-cleaners   Not-in-family               White    Male     0   \n",
       " 3      Handlers-cleaners         Husband               Black    Male     0   \n",
       " 4         Prof-specialty            Wife               Black  Female     0   \n",
       " ...                  ...             ...                 ...     ...   ...   \n",
       " 48837     Prof-specialty   Not-in-family               White  Female     0   \n",
       " 48838                  ?  Other-relative               Black    Male     0   \n",
       " 48839     Prof-specialty         Husband               White    Male     0   \n",
       " 48840       Adm-clerical       Own-child  Asian-Pac-Islander    Male  5455   \n",
       " 48841    Exec-managerial         Husband               White    Male     0   \n",
       " \n",
       "        11  12             13  \n",
       " 0       0  40  United-States  \n",
       " 1       0  13  United-States  \n",
       " 2       0  40  United-States  \n",
       " 3       0  40  United-States  \n",
       " 4       0  40           Cuba  \n",
       " ...    ..  ..            ...  \n",
       " 48837   0  36  United-States  \n",
       " 48838   0  40  United-States  \n",
       " 48839   0  50  United-States  \n",
       " 48840   0  40  United-States  \n",
       " 48841   0  60  United-States  \n",
       " \n",
       " [48842 rows x 14 columns],\n",
       " array([0, 0, 0, ..., 0, 0, 1]))"
      ]
     },
     "execution_count": 54,
     "metadata": {},
     "output_type": "execute_result"
    }
   ],
   "source": [
    "X = data.drop([14], axis = 1)\n",
    "le = preprocessing.LabelEncoder()\n",
    "le.fit(data[14])\n",
    "y = le.transform(data[14])\n",
    "X, y"
   ]
  },
  {
   "cell_type": "markdown",
   "metadata": {},
   "source": [
    "9. Выясните, присутствуют ли в данных пропуски. Заполните их самыми частыми значениями (испольуйте SimpleImputer)"
   ]
  },
  {
   "cell_type": "code",
   "execution_count": null,
   "metadata": {},
   "outputs": [],
   "source": []
  },
  {
   "cell_type": "markdown",
   "metadata": {},
   "source": [
    "10. Выберите колонки с числовыми и категориальными переменными."
   ]
  },
  {
   "cell_type": "code",
   "execution_count": null,
   "metadata": {},
   "outputs": [],
   "source": []
  },
  {
   "cell_type": "markdown",
   "metadata": {},
   "source": [
    "11. Создайте пайплайн по обработке колонок(используйте OneHotEncoder,MinMaxScaler)."
   ]
  },
  {
   "cell_type": "code",
   "execution_count": null,
   "metadata": {},
   "outputs": [],
   "source": []
  },
  {
   "cell_type": "markdown",
   "metadata": {},
   "source": [
    "12. Посчитайте метрики accuracy и f1_score на предсказании только самого частого класса в целевой переменной."
   ]
  },
  {
   "cell_type": "code",
   "execution_count": null,
   "metadata": {},
   "outputs": [],
   "source": []
  },
  {
   "cell_type": "markdown",
   "metadata": {},
   "source": [
    "13. Посчитайте cross_val_score по алгоритмам LogisticRegression, SVC, LinearSVC по метрикам accuracy и f1_score.\n",
    "Напишите удалось ли превзойти предыдущий результат."
   ]
  },
  {
   "cell_type": "code",
   "execution_count": null,
   "metadata": {},
   "outputs": [],
   "source": []
  },
  {
   "cell_type": "markdown",
   "metadata": {},
   "source": [
    "14. Можно заметить что в данных присутствуют значения '?', замените их самыми частыми значениями (испольуйте SimpleImputer)"
   ]
  },
  {
   "cell_type": "code",
   "execution_count": null,
   "metadata": {},
   "outputs": [],
   "source": []
  },
  {
   "cell_type": "markdown",
   "metadata": {},
   "source": [
    "15. Посчитайте cross_val_score на новых данных. Напишите удалось ли улучшить результат."
   ]
  },
  {
   "cell_type": "code",
   "execution_count": null,
   "metadata": {},
   "outputs": [],
   "source": []
  },
  {
   "cell_type": "markdown",
   "metadata": {},
   "source": [
    "16. Посчитайте cross_val_score, если просто удалить значения '?'. Напишите как изменился результат"
   ]
  },
  {
   "cell_type": "code",
   "execution_count": null,
   "metadata": {},
   "outputs": [],
   "source": []
  },
  {
   "cell_type": "markdown",
   "metadata": {},
   "source": [
    " 17. Посчитайте cross_val_score для RandomForestClassifier,GradientBoostingClassifier. Напишите как изменился результат и какой вывод можно из этого сделать."
   ]
  },
  {
   "cell_type": "code",
   "execution_count": null,
   "metadata": {},
   "outputs": [],
   "source": []
  },
  {
   "cell_type": "markdown",
   "metadata": {},
   "source": [
    "18. Подберите наилучшую модель, подбирая методы обработки колонок - масштабирование признаков, кодирование признаков и заполнение пропусков. Параметры алгоритмов оставьте по умолчанию. Выведите итоговые параметры и результат accuracy и f1_score."
   ]
  },
  {
   "cell_type": "code",
   "execution_count": null,
   "metadata": {},
   "outputs": [],
   "source": []
  }
 ],
 "metadata": {
  "kernelspec": {
   "display_name": "Python 3",
   "language": "python",
   "name": "python3"
  },
  "language_info": {
   "codemirror_mode": {
    "name": "ipython",
    "version": 3
   },
   "file_extension": ".py",
   "mimetype": "text/x-python",
   "name": "python",
   "nbconvert_exporter": "python",
   "pygments_lexer": "ipython3",
   "version": "3.8.8"
  },
  "toc": {
   "base_numbering": 1,
   "nav_menu": {},
   "number_sections": true,
   "sideBar": true,
   "skip_h1_title": false,
   "title_cell": "Table of Contents",
   "title_sidebar": "Contents",
   "toc_cell": true,
   "toc_position": {},
   "toc_section_display": true,
   "toc_window_display": false
  }
 },
 "nbformat": 4,
 "nbformat_minor": 2
}
